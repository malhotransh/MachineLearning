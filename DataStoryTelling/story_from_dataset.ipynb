{
  "nbformat": 4,
  "nbformat_minor": 0,
  "metadata": {
    "colab": {
      "name": "story_from_dataset.ipynb",
      "provenance": []
    },
    "kernelspec": {
      "name": "python3",
      "display_name": "Python 3"
    }
  },
  "cells": [
    {
      "cell_type": "markdown",
      "metadata": {
        "id": "M7hTx6RtVTsD"
      },
      "source": [
        ""
      ]
    },
    {
      "cell_type": "markdown",
      "metadata": {
        "id": "nJWG-VVxVYUZ"
      },
      "source": [
        "**Should Travelers Avoid Flying Airlines That Have Had Crashes in the Past?**\r\n",
        "\r\n",
        "Should we really be less inclined to fly airlines that have had fatal crashes in the past — even when the crashes don’t appear to be their fault? Or are crashes essentially random events that occur at about the same rate on all airlines over the long run? \r\n",
        "\r\n",
        "We can study this by looking at safety records for major commercial airlines over the past 30 years. The method is relatively simple. I’ll break the 30-year period down into two halves: first from 1985 to 1999, and then from 2000 to 2014. Then I’ll look to see whether there was a correlation in crash rates from one half of the data set to the other. If we identify a correlation, that will imply that crash risk is persistent — predictable to some extent based on the airline ?"
      ]
    },
    {
      "cell_type": "code",
      "metadata": {
        "id": "BwsdssDTWX9-"
      },
      "source": [
        "import numpy as np # linear algebra\r\n",
        "import pandas as pd # data processing, CSV file I/O (e.g. pd.read_csv)\r\n",
        "import plotly.graph_objects as go\r\n",
        "import seaborn as sns\r\n",
        "import matplotlib.pyplot as plt\r\n",
        "import warnings\r\n",
        "warnings.filterwarnings('ignore')"
      ],
      "execution_count": 1,
      "outputs": []
    },
    {
      "cell_type": "code",
      "metadata": {
        "colab": {
          "base_uri": "https://localhost:8080/",
          "height": 239
        },
        "id": "55HH6fkQWfPi",
        "outputId": "f129929e-08c6-41c8-a82a-df2b58e3a935"
      },
      "source": [
        "airline_safety = pd.read_csv('airline-safety.csv')\r\n",
        "airline_safety.head()"
      ],
      "execution_count": 2,
      "outputs": [
        {
          "output_type": "execute_result",
          "data": {
            "text/html": [
              "<div>\n",
              "<style scoped>\n",
              "    .dataframe tbody tr th:only-of-type {\n",
              "        vertical-align: middle;\n",
              "    }\n",
              "\n",
              "    .dataframe tbody tr th {\n",
              "        vertical-align: top;\n",
              "    }\n",
              "\n",
              "    .dataframe thead th {\n",
              "        text-align: right;\n",
              "    }\n",
              "</style>\n",
              "<table border=\"1\" class=\"dataframe\">\n",
              "  <thead>\n",
              "    <tr style=\"text-align: right;\">\n",
              "      <th></th>\n",
              "      <th>airline</th>\n",
              "      <th>avail_seat_km_per_week</th>\n",
              "      <th>incidents_85_99</th>\n",
              "      <th>fatal_accidents_85_99</th>\n",
              "      <th>fatalities_85_99</th>\n",
              "      <th>incidents_00_14</th>\n",
              "      <th>fatal_accidents_00_14</th>\n",
              "      <th>fatalities_00_14</th>\n",
              "    </tr>\n",
              "  </thead>\n",
              "  <tbody>\n",
              "    <tr>\n",
              "      <th>0</th>\n",
              "      <td>Aer Lingus</td>\n",
              "      <td>320906734</td>\n",
              "      <td>2</td>\n",
              "      <td>0</td>\n",
              "      <td>0</td>\n",
              "      <td>0</td>\n",
              "      <td>0</td>\n",
              "      <td>0</td>\n",
              "    </tr>\n",
              "    <tr>\n",
              "      <th>1</th>\n",
              "      <td>Aeroflot*</td>\n",
              "      <td>1197672318</td>\n",
              "      <td>76</td>\n",
              "      <td>14</td>\n",
              "      <td>128</td>\n",
              "      <td>6</td>\n",
              "      <td>1</td>\n",
              "      <td>88</td>\n",
              "    </tr>\n",
              "    <tr>\n",
              "      <th>2</th>\n",
              "      <td>Aerolineas Argentinas</td>\n",
              "      <td>385803648</td>\n",
              "      <td>6</td>\n",
              "      <td>0</td>\n",
              "      <td>0</td>\n",
              "      <td>1</td>\n",
              "      <td>0</td>\n",
              "      <td>0</td>\n",
              "    </tr>\n",
              "    <tr>\n",
              "      <th>3</th>\n",
              "      <td>Aeromexico*</td>\n",
              "      <td>596871813</td>\n",
              "      <td>3</td>\n",
              "      <td>1</td>\n",
              "      <td>64</td>\n",
              "      <td>5</td>\n",
              "      <td>0</td>\n",
              "      <td>0</td>\n",
              "    </tr>\n",
              "    <tr>\n",
              "      <th>4</th>\n",
              "      <td>Air Canada</td>\n",
              "      <td>1865253802</td>\n",
              "      <td>2</td>\n",
              "      <td>0</td>\n",
              "      <td>0</td>\n",
              "      <td>2</td>\n",
              "      <td>0</td>\n",
              "      <td>0</td>\n",
              "    </tr>\n",
              "  </tbody>\n",
              "</table>\n",
              "</div>"
            ],
            "text/plain": [
              "                 airline  ...  fatalities_00_14\n",
              "0             Aer Lingus  ...                 0\n",
              "1              Aeroflot*  ...                88\n",
              "2  Aerolineas Argentinas  ...                 0\n",
              "3            Aeromexico*  ...                 0\n",
              "4             Air Canada  ...                 0\n",
              "\n",
              "[5 rows x 8 columns]"
            ]
          },
          "metadata": {
            "tags": []
          },
          "execution_count": 2
        }
      ]
    },
    {
      "cell_type": "markdown",
      "metadata": {
        "id": "ouiS39nZW6jE"
      },
      "source": [
        "The dataset contains 56 entries of 8 features. Except for the 'airline' which is categorical, the remaining are integers"
      ]
    },
    {
      "cell_type": "code",
      "metadata": {
        "colab": {
          "base_uri": "https://localhost:8080/"
        },
        "id": "HTtuvMRwWxZl",
        "outputId": "b9a9946b-fd9f-482e-98ea-e1ca49e0d81b"
      },
      "source": [
        "airline_safety.info()"
      ],
      "execution_count": 3,
      "outputs": [
        {
          "output_type": "stream",
          "text": [
            "<class 'pandas.core.frame.DataFrame'>\n",
            "RangeIndex: 56 entries, 0 to 55\n",
            "Data columns (total 8 columns):\n",
            " #   Column                  Non-Null Count  Dtype \n",
            "---  ------                  --------------  ----- \n",
            " 0   airline                 56 non-null     object\n",
            " 1   avail_seat_km_per_week  56 non-null     int64 \n",
            " 2   incidents_85_99         56 non-null     int64 \n",
            " 3   fatal_accidents_85_99   56 non-null     int64 \n",
            " 4   fatalities_85_99        56 non-null     int64 \n",
            " 5   incidents_00_14         56 non-null     int64 \n",
            " 6   fatal_accidents_00_14   56 non-null     int64 \n",
            " 7   fatalities_00_14        56 non-null     int64 \n",
            "dtypes: int64(7), object(1)\n",
            "memory usage: 3.6+ KB\n"
          ],
          "name": "stdout"
        }
      ]
    },
    {
      "cell_type": "markdown",
      "metadata": {
        "id": "XEl0FcTLXGbj"
      },
      "source": [
        "The average incidents between 1985-1999 is 7, the average fatal accidents in those years is 2 and average fatalities is 112. The average incidents between 2000-2014 is 4 and the average fatal accidents in those years is less than 1 and average fatalities is 55"
      ]
    },
    {
      "cell_type": "code",
      "metadata": {
        "colab": {
          "base_uri": "https://localhost:8080/",
          "height": 314
        },
        "id": "FD8ruf1qW-ty",
        "outputId": "d28bd2b3-a644-43c0-8a43-ba1494385d25"
      },
      "source": [
        "airline_safety.describe()"
      ],
      "execution_count": 5,
      "outputs": [
        {
          "output_type": "execute_result",
          "data": {
            "text/html": [
              "<div>\n",
              "<style scoped>\n",
              "    .dataframe tbody tr th:only-of-type {\n",
              "        vertical-align: middle;\n",
              "    }\n",
              "\n",
              "    .dataframe tbody tr th {\n",
              "        vertical-align: top;\n",
              "    }\n",
              "\n",
              "    .dataframe thead th {\n",
              "        text-align: right;\n",
              "    }\n",
              "</style>\n",
              "<table border=\"1\" class=\"dataframe\">\n",
              "  <thead>\n",
              "    <tr style=\"text-align: right;\">\n",
              "      <th></th>\n",
              "      <th>avail_seat_km_per_week</th>\n",
              "      <th>incidents_85_99</th>\n",
              "      <th>fatal_accidents_85_99</th>\n",
              "      <th>fatalities_85_99</th>\n",
              "      <th>incidents_00_14</th>\n",
              "      <th>fatal_accidents_00_14</th>\n",
              "      <th>fatalities_00_14</th>\n",
              "    </tr>\n",
              "  </thead>\n",
              "  <tbody>\n",
              "    <tr>\n",
              "      <th>count</th>\n",
              "      <td>5.600000e+01</td>\n",
              "      <td>56.000000</td>\n",
              "      <td>56.000000</td>\n",
              "      <td>56.000000</td>\n",
              "      <td>56.000000</td>\n",
              "      <td>56.000000</td>\n",
              "      <td>56.000000</td>\n",
              "    </tr>\n",
              "    <tr>\n",
              "      <th>mean</th>\n",
              "      <td>1.384621e+09</td>\n",
              "      <td>7.178571</td>\n",
              "      <td>2.178571</td>\n",
              "      <td>112.410714</td>\n",
              "      <td>4.125000</td>\n",
              "      <td>0.660714</td>\n",
              "      <td>55.517857</td>\n",
              "    </tr>\n",
              "    <tr>\n",
              "      <th>std</th>\n",
              "      <td>1.465317e+09</td>\n",
              "      <td>11.035656</td>\n",
              "      <td>2.861069</td>\n",
              "      <td>146.691114</td>\n",
              "      <td>4.544977</td>\n",
              "      <td>0.858684</td>\n",
              "      <td>111.332751</td>\n",
              "    </tr>\n",
              "    <tr>\n",
              "      <th>min</th>\n",
              "      <td>2.593733e+08</td>\n",
              "      <td>0.000000</td>\n",
              "      <td>0.000000</td>\n",
              "      <td>0.000000</td>\n",
              "      <td>0.000000</td>\n",
              "      <td>0.000000</td>\n",
              "      <td>0.000000</td>\n",
              "    </tr>\n",
              "    <tr>\n",
              "      <th>25%</th>\n",
              "      <td>4.740362e+08</td>\n",
              "      <td>2.000000</td>\n",
              "      <td>0.000000</td>\n",
              "      <td>0.000000</td>\n",
              "      <td>1.000000</td>\n",
              "      <td>0.000000</td>\n",
              "      <td>0.000000</td>\n",
              "    </tr>\n",
              "    <tr>\n",
              "      <th>50%</th>\n",
              "      <td>8.029089e+08</td>\n",
              "      <td>4.000000</td>\n",
              "      <td>1.000000</td>\n",
              "      <td>48.500000</td>\n",
              "      <td>3.000000</td>\n",
              "      <td>0.000000</td>\n",
              "      <td>0.000000</td>\n",
              "    </tr>\n",
              "    <tr>\n",
              "      <th>75%</th>\n",
              "      <td>1.847239e+09</td>\n",
              "      <td>8.000000</td>\n",
              "      <td>3.000000</td>\n",
              "      <td>184.250000</td>\n",
              "      <td>5.250000</td>\n",
              "      <td>1.000000</td>\n",
              "      <td>83.250000</td>\n",
              "    </tr>\n",
              "    <tr>\n",
              "      <th>max</th>\n",
              "      <td>7.139291e+09</td>\n",
              "      <td>76.000000</td>\n",
              "      <td>14.000000</td>\n",
              "      <td>535.000000</td>\n",
              "      <td>24.000000</td>\n",
              "      <td>3.000000</td>\n",
              "      <td>537.000000</td>\n",
              "    </tr>\n",
              "  </tbody>\n",
              "</table>\n",
              "</div>"
            ],
            "text/plain": [
              "       avail_seat_km_per_week  ...  fatalities_00_14\n",
              "count            5.600000e+01  ...         56.000000\n",
              "mean             1.384621e+09  ...         55.517857\n",
              "std              1.465317e+09  ...        111.332751\n",
              "min              2.593733e+08  ...          0.000000\n",
              "25%              4.740362e+08  ...          0.000000\n",
              "50%              8.029089e+08  ...          0.000000\n",
              "75%              1.847239e+09  ...         83.250000\n",
              "max              7.139291e+09  ...        537.000000\n",
              "\n",
              "[8 rows x 7 columns]"
            ]
          },
          "metadata": {
            "tags": []
          },
          "execution_count": 5
        }
      ]
    },
    {
      "cell_type": "markdown",
      "metadata": {
        "id": "pZzpLrdrXXar"
      },
      "source": [
        "The different unique values of each features can be seen"
      ]
    },
    {
      "cell_type": "code",
      "metadata": {
        "colab": {
          "base_uri": "https://localhost:8080/"
        },
        "id": "pTzFTl_bXYW2",
        "outputId": "bf7e208e-6c4c-4821-c425-690ec333c037"
      },
      "source": [
        "airline_safety.nunique()"
      ],
      "execution_count": 8,
      "outputs": [
        {
          "output_type": "execute_result",
          "data": {
            "text/plain": [
              "airline                   56\n",
              "avail_seat_km_per_week    56\n",
              "incidents_85_99           19\n",
              "fatal_accidents_85_99     11\n",
              "fatalities_85_99          38\n",
              "incidents_00_14           14\n",
              "fatal_accidents_00_14      4\n",
              "fatalities_00_14          23\n",
              "dtype: int64"
            ]
          },
          "metadata": {
            "tags": []
          },
          "execution_count": 8
        }
      ]
    },
    {
      "cell_type": "markdown",
      "metadata": {
        "id": "Ou75LH0QXhjt"
      },
      "source": [
        "No missing values in our dataset"
      ]
    },
    {
      "cell_type": "code",
      "metadata": {
        "colab": {
          "base_uri": "https://localhost:8080/",
          "height": 401
        },
        "id": "n9p_sz2VXlmp",
        "outputId": "79d29ad3-a4a8-4482-d595-143843fd2511"
      },
      "source": [
        "sns.heatmap(airline_safety.corr())"
      ],
      "execution_count": 9,
      "outputs": [
        {
          "output_type": "execute_result",
          "data": {
            "text/plain": [
              "<matplotlib.axes._subplots.AxesSubplot at 0x7ff7b3cc2cc0>"
            ]
          },
          "metadata": {
            "tags": []
          },
          "execution_count": 9
        },
        {
          "output_type": "display_data",
          "data": {
            "image/png": "[encoded data removed]",
            "text/plain": [
              "<Figure size 432x288 with 2 Axes>"
            ]
          },
          "metadata": {
            "tags": [],
            "needs_background": "light"
          }
        }
      ]
    },
    {
      "cell_type": "markdown",
      "metadata": {
        "id": "m2k1aojnYW1H"
      },
      "source": [
        "Visualization of all airines incidents, fatal accidents and fatalities from year 1985-1999."
      ]
    },
    {
      "cell_type": "code",
      "metadata": {
        "colab": {
          "base_uri": "https://localhost:8080/",
          "height": 751
        },
        "id": "7kORp2eMYNon",
        "outputId": "18372bb7-15bc-405d-88e1-b184c81a2611"
      },
      "source": [
        "airline_safety.plot(x = 'airline',y=['incidents_85_99','fatal_accidents_85_99','fatalities_85_99'],kind='bar',figsize=(20,15));\r\n",
        "plt.show()"
      ],
      "execution_count": 10,
      "outputs": [
        {
          "output_type": "display_data",
          "data": {
            "image/png": "[encoded data removed]",
            "text/plain": [
              "<Figure size 1440x1080 with 1 Axes>"
            ]
          },
          "metadata": {
            "tags": [],
            "needs_background": "light"
          }
        }
      ]
    },
    {
      "cell_type": "markdown",
      "metadata": {
        "id": "dOgMoODdYq3v"
      },
      "source": [
        "Visualization of all airines incidents, fatal accidents and fatalities from year 2000-2014."
      ]
    },
    {
      "cell_type": "code",
      "metadata": {
        "colab": {
          "base_uri": "https://localhost:8080/",
          "height": 751
        },
        "id": "mc3lK4VoYvEF",
        "outputId": "6cc832e5-e53e-448f-fc8b-f9fc0b033ce9"
      },
      "source": [
        "airline_safety.plot(x = 'airline',y=['incidents_00_14','fatal_accidents_00_14','fatalities_00_14'],kind='bar',figsize=(20,15));\r\n",
        "plt.show()"
      ],
      "execution_count": 11,
      "outputs": [
        {
          "output_type": "display_data",
          "data": {
            "image/png": "[encoded data removed]",
            "text/plain": [
              "<Figure size 1440x1080 with 1 Axes>"
            ]
          },
          "metadata": {
            "tags": [],
            "needs_background": "light"
          }
        }
      ]
    },
    {
      "cell_type": "markdown",
      "metadata": {
        "id": "HYrZs03AY6Gd"
      },
      "source": [
        "The above plot was not much informative \r\n",
        "What else can be done ?\r\n",
        "We can create range for incidents,fatal accidents and fatalities and compare values for them between 1985-1999 and 2000-2014"
      ]
    },
    {
      "cell_type": "code",
      "metadata": {
        "colab": {
          "base_uri": "https://localhost:8080/"
        },
        "id": "YT8TzaEEZTXQ",
        "outputId": "21b72173-a677-4035-9020-8202cda03d6f"
      },
      "source": [
        "incidents8599 = pd.cut(airline_safety['incidents_85_99'],bins=[0,5,10,20,50,100],labels=['0-5','5-10','10-20','20-50','50-100'])\r\n",
        "incidents0014 = pd.cut(airline_safety['incidents_00_14'],bins=[0,5,10,20,50,100],labels=['0-5','5-10','10-20','20-50','50-100'])\r\n",
        "\r\n",
        "print(\"Incidents between 1985-1999\\n\",incidents8599.value_counts())\r\n",
        "print(\"Incidents between 2000-2014\\n\",incidents0014.value_counts())"
      ],
      "execution_count": 12,
      "outputs": [
        {
          "output_type": "stream",
          "text": [
            "Incidents between 1985-1999\n",
            " 0-5       30\n",
            "5-10      14\n",
            "10-20      5\n",
            "20-50      3\n",
            "50-100     1\n",
            "Name: incidents_85_99, dtype: int64\n",
            "Incidents between 2000-2014\n",
            " 0-5       33\n",
            "5-10       9\n",
            "10-20      4\n",
            "20-50      1\n",
            "50-100     0\n",
            "Name: incidents_00_14, dtype: int64\n"
          ],
          "name": "stdout"
        }
      ]
    },
    {
      "cell_type": "code",
      "metadata": {
        "colab": {
          "base_uri": "https://localhost:8080/"
        },
        "id": "qwfYrUDMZk3i",
        "outputId": "caead877-4b47-4cc8-cafa-b2266b764c34"
      },
      "source": [
        "fatal_accidents8599 = pd.cut(airline_safety['fatal_accidents_85_99'],bins=[0,5,10,20,50,100],labels=['0-5','5-10','10-20','20-50','50-100'])\r\n",
        "fatal_accidents0014 = pd.cut(airline_safety['fatal_accidents_00_14'],bins=[0,5,10,20,50,100],labels=['0-5','5-10','10-20','20-50','50-100'])\r\n",
        "\r\n",
        "print(\"Fatal accidents between 1985-1999\")\r\n",
        "print(fatal_accidents8599.value_counts())\r\n",
        "print(\"\\nFatal accidents between 2000-2014\")\r\n",
        "print(fatal_accidents0014.value_counts())\r\n"
      ],
      "execution_count": 14,
      "outputs": [
        {
          "output_type": "stream",
          "text": [
            "Fatal accidents between 1985-1999\n",
            "0-5       34\n",
            "5-10       3\n",
            "10-20      2\n",
            "50-100     0\n",
            "20-50      0\n",
            "Name: fatal_accidents_85_99, dtype: int64\n",
            "\n",
            "Fatal accidents between 2000-2014\n",
            "0-5       24\n",
            "50-100     0\n",
            "20-50      0\n",
            "10-20      0\n",
            "5-10       0\n",
            "Name: fatal_accidents_00_14, dtype: int64\n"
          ],
          "name": "stdout"
        }
      ]
    },
    {
      "cell_type": "code",
      "metadata": {
        "colab": {
          "base_uri": "https://localhost:8080/"
        },
        "id": "ZjGdZwAOZt1V",
        "outputId": "c08cc32d-4ac9-4557-c468-f368eb9e8086"
      },
      "source": [
        "fatalities8599 = pd.cut(airline_safety['fatalities_85_99'],bins=[0,25,50,100,200,500,800],labels=['0-25','25-50','50-100','100-200','200-500','500-800'])\r\n",
        "fatalities0014 = pd.cut(airline_safety['fatalities_00_14'],bins=[0,25,50,100,200,500,800],labels=['0-25','25-50','50-100','100-200','200-500','500-800'])\r\n",
        "\r\n",
        "print(\"Fatalities between 1985-1999\")\r\n",
        "print(fatalities8599.value_counts())\r\n",
        "print(\"\\nFatalities between 2000-2014\")\r\n",
        "print(fatalities0014.value_counts())"
      ],
      "execution_count": 15,
      "outputs": [
        {
          "output_type": "stream",
          "text": [
            "Fatalities between 1985-1999\n",
            "200-500    12\n",
            "0-25        9\n",
            "50-100      7\n",
            "100-200     6\n",
            "25-50       3\n",
            "500-800     2\n",
            "Name: fatalities_85_99, dtype: int64\n",
            "\n",
            "Fatalities between 2000-2014\n",
            "0-25       7\n",
            "50-100     6\n",
            "100-200    5\n",
            "200-500    4\n",
            "500-800    1\n",
            "25-50      1\n",
            "Name: fatalities_00_14, dtype: int64\n"
          ],
          "name": "stdout"
        }
      ]
    },
    {
      "cell_type": "markdown",
      "metadata": {
        "id": "sxlvuhFcgFsc"
      },
      "source": [
        "Max and Min values of Incidents, fatal incidents and fatalities for year 1985-1999"
      ]
    },
    {
      "cell_type": "code",
      "metadata": {
        "colab": {
          "base_uri": "https://localhost:8080/"
        },
        "id": "_RzZL-OMf2iO",
        "outputId": "ae09ef53-d7a1-440a-9549-161a0fc8be39"
      },
      "source": [
        "m = airline_safety['incidents_85_99'].max()\r\n",
        "n = airline_safety['incidents_85_99'].min()\r\n",
        "\r\n",
        "print(\"Airline with maximum incidents between 1985-1999\")\r\n",
        "print(airline_safety[airline_safety['incidents_85_99'] == m]['airline'].values)\r\n",
        "print(\"\\nAirline with minimum incidents between 1985-1999\")\r\n",
        "print(airline_safety[airline_safety['incidents_85_99'] == n]['airline'].values)\r\n",
        "print('\\n')\r\n",
        "\r\n",
        "\r\n",
        "m = airline_safety['fatal_accidents_85_99'].max()\r\n",
        "n = airline_safety['fatal_accidents_85_99'].min()\r\n",
        "\r\n",
        "print(\"Airline with maximum fatal accidents between 1985-1999\")\r\n",
        "print(airline_safety[airline_safety['fatal_accidents_85_99'] == m]['airline'].values)\r\n",
        "print(\"\\nAirline with minimum fatal accidents between 1985-1999\")\r\n",
        "print(airline_safety[airline_safety['incidents_85_99'] == n]['airline'].values)\r\n",
        "print('\\n')\r\n",
        "\r\n",
        "\r\n",
        "m = airline_safety['fatalities_85_99'].max()\r\n",
        "n = airline_safety['fatalities_85_99'].min()\r\n",
        "\r\n",
        "print(\"Airline with maximum fatalities between 1985-1999\")\r\n",
        "print(airline_safety[airline_safety['fatalities_85_99'] == m]['airline'].values)\r\n",
        "print(\"\\nAirline with minimum fatalities between 1985-1999\")\r\n",
        "print(airline_safety[airline_safety['fatalities_85_99'] == n]['airline'].values)\r\n",
        "print('\\n')"
      ],
      "execution_count": 16,
      "outputs": [
        {
          "output_type": "stream",
          "text": [
            "Airline with maximum incidents between 1985-1999\n",
            "['Aeroflot*']\n",
            "\n",
            "Airline with minimum incidents between 1985-1999\n",
            "['Cathay Pacific*' 'Hawaiian Airlines' 'TAP - Air Portugal']\n",
            "\n",
            "\n",
            "Airline with maximum fatal accidents between 1985-1999\n",
            "['Aeroflot*']\n",
            "\n",
            "Airline with minimum fatal accidents between 1985-1999\n",
            "['Cathay Pacific*' 'Hawaiian Airlines' 'TAP - Air Portugal']\n",
            "\n",
            "\n",
            "Airline with maximum fatalities between 1985-1999\n",
            "['China Airlines']\n",
            "\n",
            "Airline with minimum fatalities between 1985-1999\n",
            "['Aer Lingus' 'Aerolineas Argentinas' 'Air Canada' 'Air New Zealand*'\n",
            " 'Alaska Airlines*' 'Austrian Airlines' 'British Airways*'\n",
            " 'Cathay Pacific*' 'Finnair' 'Gulf Air' 'Hawaiian Airlines'\n",
            " 'Kenya Airways' 'Qantas*' 'SAS*' 'Southwest Airlines'\n",
            " 'TAP - Air Portugal' 'Virgin Atlantic']\n",
            "\n",
            "\n"
          ],
          "name": "stdout"
        }
      ]
    },
    {
      "cell_type": "code",
      "metadata": {
        "colab": {
          "base_uri": "https://localhost:8080/"
        },
        "id": "cRBJlYKNgR21",
        "outputId": "251b6307-818c-4b3a-8730-a468c154ec22"
      },
      "source": [
        "m = airline_safety['incidents_00_14'].max()\r\n",
        "n = airline_safety['incidents_00_14'].min()\r\n",
        "\r\n",
        "print(\"Airline with maximum incidents between 2000-2014\")\r\n",
        "print(airline_safety[airline_safety['incidents_00_14'] == m]['airline'].values)\r\n",
        "print(\"\\nAirline with minimum incidents between 2000-2014\")\r\n",
        "print(airline_safety[airline_safety['incidents_00_14'] == n]['airline'].values)\r\n",
        "print('\\n')\r\n",
        "\r\n",
        "\r\n",
        "m = airline_safety['fatal_accidents_00_14'].max()\r\n",
        "n = airline_safety['fatal_accidents_00_14'].min()\r\n",
        "\r\n",
        "print(\"Airline with maximum fatal accidents between 2000-2014\")\r\n",
        "print(airline_safety[airline_safety['fatal_accidents_00_14'] == m]['airline'].values)\r\n",
        "print(\"\\nAirline with minimum fatal accidents between 2000-2014\")\r\n",
        "print(airline_safety[airline_safety['incidents_00_14'] == n]['airline'].values)\r\n",
        "print('\\n')\r\n",
        "\r\n",
        "\r\n",
        "m = airline_safety['fatalities_00_14'].max()\r\n",
        "n = airline_safety['fatalities_00_14'].min()\r\n",
        "\r\n",
        "print(\"Airline with maximum fatalities between 2000-2014\")\r\n",
        "print(airline_safety[airline_safety['fatalities_00_14'] == m]['airline'].values)\r\n",
        "print(\"\\nAirline with minimum fatalities between 2000-2014\")\r\n",
        "print(airline_safety[airline_safety['fatalities_00_14'] == n]['airline'].values)\r\n",
        "print('\\n')"
      ],
      "execution_count": 17,
      "outputs": [
        {
          "output_type": "stream",
          "text": [
            "Airline with maximum incidents between 2000-2014\n",
            "['Delta / Northwest*']\n",
            "\n",
            "Airline with minimum incidents between 2000-2014\n",
            "['Aer Lingus' 'Avianca' 'Condor' 'COPA' 'Finnair' 'Japan Airlines'\n",
            " 'LAN Airlines' 'TAP - Air Portugal' 'Virgin Atlantic']\n",
            "\n",
            "\n",
            "Airline with maximum fatal accidents between 2000-2014\n",
            "['American*']\n",
            "\n",
            "Airline with minimum fatal accidents between 2000-2014\n",
            "['Aer Lingus' 'Avianca' 'Condor' 'COPA' 'Finnair' 'Japan Airlines'\n",
            " 'LAN Airlines' 'TAP - Air Portugal' 'Virgin Atlantic']\n",
            "\n",
            "\n",
            "Airline with maximum fatalities between 2000-2014\n",
            "['Malaysia Airlines']\n",
            "\n",
            "Airline with minimum fatalities between 2000-2014\n",
            "['Aer Lingus' 'Aerolineas Argentinas' 'Aeromexico*' 'Air Canada'\n",
            " 'Alitalia' 'All Nippon Airways' 'Austrian Airlines' 'Avianca'\n",
            " 'British Airways*' 'Cathay Pacific*' 'Condor' 'COPA' 'El Al' 'Finnair'\n",
            " 'Hawaiian Airlines' 'Iberia' 'Japan Airlines' 'KLM*' 'Korean Air'\n",
            " 'LAN Airlines' 'Lufthansa*' 'Qantas*' 'Royal Air Maroc' 'Saudi Arabian'\n",
            " 'South African' 'Southwest Airlines' 'Sri Lankan / AirLanka' 'SWISS*'\n",
            " 'TAP - Air Portugal' 'Vietnam Airlines' 'Virgin Atlantic'\n",
            " 'Xiamen Airlines']\n",
            "\n",
            "\n"
          ],
          "name": "stdout"
        }
      ]
    },
    {
      "cell_type": "markdown",
      "metadata": {
        "id": "htl2ufRDjvoN"
      },
      "source": [
        "Fatalities By Airline are Highly Unpredictable\r\n",
        "\r\n",
        "As you should see, the number of fatalities is not very consistent from the first half of the data set to the next.There is no correlation in the rate of fatalities from one period to the next.\r\n",
        "\r\n"
      ]
    },
    {
      "cell_type": "code",
      "metadata": {
        "colab": {
          "base_uri": "https://localhost:8080/",
          "height": 279
        },
        "id": "JgQxYQf9g5nf",
        "outputId": "d5f8c144-1c07-4b9b-e193-c4310e86c6ad"
      },
      "source": [
        "ax = sns.regplot(airline_safety['fatalities_85_99'], airline_safety['fatalities_00_14'], ci=None)\r\n",
        "ax.grid()\r\n",
        "ax.set_xlabel('1985-1999')\r\n",
        "ax.set_ylabel('2000-2014')\r\n",
        "for i in range(0,airline_safety.shape[0]):\r\n",
        "  if(airline_safety['fatalities_85_99'][i]>450 or airline_safety['fatalities_00_14'][i]>500):\r\n",
        "    ax.text(airline_safety['fatalities_85_99'][i]+0.2, airline_safety['fatalities_00_14'][i], airline_safety.airline[i], horizontalalignment='left', size='medium', color='black', weight='semibold')"
      ],
      "execution_count": 59,
      "outputs": [
        {
          "output_type": "display_data",
          "data": {
            "image/png": "[encoded data removed]",
            "text/plain": [
              "<Figure size 432x288 with 1 Axes>"
            ]
          },
          "metadata": {
            "tags": [],
            "needs_background": "light"
          }
        }
      ]
    },
    {
      "cell_type": "markdown",
      "metadata": {
        "id": "9ckFxOq8rAXI"
      },
      "source": [
        "Incidents By Airline are slightly predictable\r\n",
        "\r\n",
        "Accidents that produce a massive number of fatalities are rare compared to fatal accidents of any kind, however. And fatal accidents represent only about one-quarter of all incidents listed in the database. So it may be better to compare airlines on the basis of their number of incidents, whether or not they resulted in a fatality, which has the effect of increasing the sample size."
      ]
    },
    {
      "cell_type": "code",
      "metadata": {
        "colab": {
          "base_uri": "https://localhost:8080/",
          "height": 282
        },
        "id": "302FAgGZrNb2",
        "outputId": "e3e26c04-9b5d-4747-c906-fdaea16b2eff"
      },
      "source": [
        "ax = sns.regplot(airline_safety['incidents_85_99'], airline_safety['incidents_00_14'], ci=None)\r\n",
        "ax.grid()\r\n",
        "ax.set_xlabel('1985-1999')\r\n",
        "ax.set_ylabel('2000-2014')\r\n",
        "for i in range(0,airline_safety.shape[0]):\r\n",
        "  if(airline_safety['incidents_85_99'][i]>20 or airline_safety['incidents_00_14'][i]>20):\r\n",
        "    ax.text(airline_safety['incidents_85_99'][i]+0.2, airline_safety['incidents_00_14'][i], airline_safety.airline[i], horizontalalignment='left', size='medium', color='black', weight='semibold')"
      ],
      "execution_count": 61,
      "outputs": [
        {
          "output_type": "display_data",
          "data": {
            "image/png": "[encoded data removed]",
            "text/plain": [
              "<Figure size 432x288 with 1 Axes>"
            ]
          },
          "metadata": {
            "tags": [],
            "needs_background": "light"
          }
        }
      ]
    },
    {
      "cell_type": "markdown",
      "metadata": {
        "id": "aJMIYgMvr4Lv"
      },
      "source": [
        "Viewed this way, there is a modest correlation from one period to the next.There are also a few major outliers in the chart: three are Delta , American and Ethiopian Airlines, which have had a persistently high rate of incidents. A third outlier, Aeroflot, had an extraordinarily high number of reported incidents in the 1990s. There is still a positive correlation even if those four airlines are excluded, however, which rates as modestly statistically significant — some airlines are slightly safer to fly than others.\r\n",
        "\r\n"
      ]
    },
    {
      "cell_type": "markdown",
      "metadata": {
        "id": "D39rs7bqsNAF"
      },
      "source": [
        "Our preliminary answer, then, is that an airline’s track record tells you something about its probability of future crashes — although not a lot, and only if looked at in the right way. In particular, you should look toward an airline’s rate of dangerous incidents of any kind rather than its number of fatalities or fatal accidents. These near-misses are more consistent from period to period — and could result in a deadly crash the next time around.\r\n",
        "\r\n",
        "Let’s combine our three measures of crash rates — incidents, fatal accidents and fatalities — into a single measure which I’ll call the airline’s safety score"
      ]
    },
    {
      "cell_type": "code",
      "metadata": {
        "id": "bfxI6weJroTK"
      },
      "source": [
        "incidents_safety_score_85_99 =(airline_safety['incidents_85_99'] - airline_safety['incidents_85_99'].mean())/airline_safety['incidents_85_99'].std(ddof=0)\r\n",
        "fatal_accident_safety_score_85_99 = (airline_safety['fatal_accidents_85_99'] - airline_safety['fatal_accidents_85_99'].mean())/airline_safety['fatal_accidents_85_99'].std(ddof=0)\r\n",
        "fatalities_accident_safety_score_85_99 = (airline_safety['fatalities_85_99'] - airline_safety['fatalities_85_99'].mean())/airline_safety['fatalities_85_99'].std(ddof=0)\r\n",
        "airline_safety['safety_score_85_99'] = (incidents_safety_score_85_99 + fatal_accident_safety_score_85_99 + fatalities_accident_safety_score_85_99)/3\r\n",
        "\r\n"
      ],
      "execution_count": 72,
      "outputs": []
    },
    {
      "cell_type": "code",
      "metadata": {
        "id": "AYDjt7ErxBkW"
      },
      "source": [
        "incidents_safety_score_00_14 =(airline_safety['incidents_00_14'] - airline_safety['incidents_00_14'].mean())/airline_safety['incidents_00_14'].std(ddof=0)\r\n",
        "fatal_accident_safety_score_00_14 = (airline_safety['fatal_accidents_00_14'] - airline_safety['fatal_accidents_00_14'].mean())/airline_safety['fatal_accidents_00_14'].std(ddof=0)\r\n",
        "fatalities_accident_safety_score_00_14 = (airline_safety['fatalities_00_14'] - airline_safety['fatalities_00_14'].mean())/airline_safety['fatalities_00_14'].std(ddof=0)\r\n",
        "airline_safety['safety_score_00_14'] = (incidents_safety_score_00_14 + fatal_accident_safety_score_00_14 + fatalities_accident_safety_score_00_14)/3\r\n",
        "\r\n"
      ],
      "execution_count": 74,
      "outputs": []
    },
    {
      "cell_type": "code",
      "metadata": {
        "id": "DDKd9ba_xmrs"
      },
      "source": [
        "airline_safety['combined_safety_score']=airline_safety['safety_score_85_99'] + airline_safety['safety_score_00_14']"
      ],
      "execution_count": 69,
      "outputs": []
    },
    {
      "cell_type": "code",
      "metadata": {
        "colab": {
          "base_uri": "https://localhost:8080/",
          "height": 1000
        },
        "id": "W1TkNFMgx0_M",
        "outputId": "c4c9dbca-49a6-42b3-e05c-86c9adb5c5db"
      },
      "source": [
        "cm = sns.light_palette(\"green\", as_cmap=True)\r\n",
        "\r\n",
        "s = airline_safety[['airline','safety_score_85_99','safety_score_00_14','combined_safety_score']].style.background_gradient(cmap=cm)\r\n",
        "s"
      ],
      "execution_count": 71,
      "outputs": [
        {
          "output_type": "execute_result",
          "data": {
            "text/html": [
              "<style  type=\"text/css\" >\n",
              "#T_f7ba5096_63a7_11eb_bb28_0242ac1c0002row0_col1,#T_f7ba5096_63a7_11eb_bb28_0242ac1c0002row4_col1,#T_f7ba5096_63a7_11eb_bb28_0242ac1c0002row26_col3,#T_f7ba5096_63a7_11eb_bb28_0242ac1c0002row29_col1{\n",
              "            background-color:  #e8f2e8;\n",
              "            color:  #000000;\n",
              "        }#T_f7ba5096_63a7_11eb_bb28_0242ac1c0002row0_col2,#T_f7ba5096_63a7_11eb_bb28_0242ac1c0002row13_col2,#T_f7ba5096_63a7_11eb_bb28_0242ac1c0002row15_col1,#T_f7ba5096_63a7_11eb_bb28_0242ac1c0002row17_col2,#T_f7ba5096_63a7_11eb_bb28_0242ac1c0002row18_col2,#T_f7ba5096_63a7_11eb_bb28_0242ac1c0002row23_col2,#T_f7ba5096_63a7_11eb_bb28_0242ac1c0002row26_col1,#T_f7ba5096_63a7_11eb_bb28_0242ac1c0002row28_col2,#T_f7ba5096_63a7_11eb_bb28_0242ac1c0002row32_col2,#T_f7ba5096_63a7_11eb_bb28_0242ac1c0002row48_col1,#T_f7ba5096_63a7_11eb_bb28_0242ac1c0002row48_col2,#T_f7ba5096_63a7_11eb_bb28_0242ac1c0002row48_col3,#T_f7ba5096_63a7_11eb_bb28_0242ac1c0002row54_col2{\n",
              "            background-color:  #ebf3eb;\n",
              "            color:  #000000;\n",
              "        }#T_f7ba5096_63a7_11eb_bb28_0242ac1c0002row0_col3{\n",
              "            background-color:  #e9f2e9;\n",
              "            color:  #000000;\n",
              "        }#T_f7ba5096_63a7_11eb_bb28_0242ac1c0002row1_col1,#T_f7ba5096_63a7_11eb_bb28_0242ac1c0002row11_col2,#T_f7ba5096_63a7_11eb_bb28_0242ac1c0002row19_col3{\n",
              "            background-color:  #008000;\n",
              "            color:  #f1f1f1;\n",
              "        }#T_f7ba5096_63a7_11eb_bb28_0242ac1c0002row1_col2{\n",
              "            background-color:  #a5d1a5;\n",
              "            color:  #000000;\n",
              "        }#T_f7ba5096_63a7_11eb_bb28_0242ac1c0002row1_col3{\n",
              "            background-color:  #118911;\n",
              "            color:  #f1f1f1;\n",
              "        }#T_f7ba5096_63a7_11eb_bb28_0242ac1c0002row2_col1,#T_f7ba5096_63a7_11eb_bb28_0242ac1c0002row2_col3{\n",
              "            background-color:  #e0eee0;\n",
              "            color:  #000000;\n",
              "        }#T_f7ba5096_63a7_11eb_bb28_0242ac1c0002row2_col2,#T_f7ba5096_63a7_11eb_bb28_0242ac1c0002row7_col1,#T_f7ba5096_63a7_11eb_bb28_0242ac1c0002row12_col2,#T_f7ba5096_63a7_11eb_bb28_0242ac1c0002row21_col2,#T_f7ba5096_63a7_11eb_bb28_0242ac1c0002row26_col2,#T_f7ba5096_63a7_11eb_bb28_0242ac1c0002row30_col2,#T_f7ba5096_63a7_11eb_bb28_0242ac1c0002row31_col2,#T_f7ba5096_63a7_11eb_bb28_0242ac1c0002row42_col2,#T_f7ba5096_63a7_11eb_bb28_0242ac1c0002row53_col2{\n",
              "            background-color:  #e6f1e6;\n",
              "            color:  #000000;\n",
              "        }#T_f7ba5096_63a7_11eb_bb28_0242ac1c0002row3_col1{\n",
              "            background-color:  #d7e9d7;\n",
              "            color:  #000000;\n",
              "        }#T_f7ba5096_63a7_11eb_bb28_0242ac1c0002row3_col2,#T_f7ba5096_63a7_11eb_bb28_0242ac1c0002row14_col3,#T_f7ba5096_63a7_11eb_bb28_0242ac1c0002row27_col2,#T_f7ba5096_63a7_11eb_bb28_0242ac1c0002row37_col2{\n",
              "            background-color:  #d4e8d4;\n",
              "            color:  #000000;\n",
              "        }#T_f7ba5096_63a7_11eb_bb28_0242ac1c0002row3_col3,#T_f7ba5096_63a7_11eb_bb28_0242ac1c0002row10_col3,#T_f7ba5096_63a7_11eb_bb28_0242ac1c0002row42_col1,#T_f7ba5096_63a7_11eb_bb28_0242ac1c0002row46_col2,#T_f7ba5096_63a7_11eb_bb28_0242ac1c0002row55_col3{\n",
              "            background-color:  #cde5cd;\n",
              "            color:  #000000;\n",
              "        }#T_f7ba5096_63a7_11eb_bb28_0242ac1c0002row4_col2,#T_f7ba5096_63a7_11eb_bb28_0242ac1c0002row15_col2,#T_f7ba5096_63a7_11eb_bb28_0242ac1c0002row21_col3,#T_f7ba5096_63a7_11eb_bb28_0242ac1c0002row55_col2{\n",
              "            background-color:  #e1eee1;\n",
              "            color:  #000000;\n",
              "        }#T_f7ba5096_63a7_11eb_bb28_0242ac1c0002row4_col3,#T_f7ba5096_63a7_11eb_bb28_0242ac1c0002row8_col1,#T_f7ba5096_63a7_11eb_bb28_0242ac1c0002row17_col3,#T_f7ba5096_63a7_11eb_bb28_0242ac1c0002row21_col1,#T_f7ba5096_63a7_11eb_bb28_0242ac1c0002row39_col1{\n",
              "            background-color:  #e2efe2;\n",
              "            color:  #000000;\n",
              "        }#T_f7ba5096_63a7_11eb_bb28_0242ac1c0002row5_col1{\n",
              "            background-color:  #b0d6b0;\n",
              "            color:  #000000;\n",
              "        }#T_f7ba5096_63a7_11eb_bb28_0242ac1c0002row5_col2,#T_f7ba5096_63a7_11eb_bb28_0242ac1c0002row16_col3{\n",
              "            background-color:  #5cad5c;\n",
              "            color:  #000000;\n",
              "        }#T_f7ba5096_63a7_11eb_bb28_0242ac1c0002row5_col3{\n",
              "            background-color:  #64b164;\n",
              "            color:  #000000;\n",
              "        }#T_f7ba5096_63a7_11eb_bb28_0242ac1c0002row6_col1,#T_f7ba5096_63a7_11eb_bb28_0242ac1c0002row40_col2{\n",
              "            background-color:  #b7dab7;\n",
              "            color:  #000000;\n",
              "        }#T_f7ba5096_63a7_11eb_bb28_0242ac1c0002row6_col2{\n",
              "            background-color:  #a1cfa1;\n",
              "            color:  #000000;\n",
              "        }#T_f7ba5096_63a7_11eb_bb28_0242ac1c0002row6_col3{\n",
              "            background-color:  #96c996;\n",
              "            color:  #000000;\n",
              "        }#T_f7ba5096_63a7_11eb_bb28_0242ac1c0002row7_col2,#T_f7ba5096_63a7_11eb_bb28_0242ac1c0002row41_col2{\n",
              "            background-color:  #b9dbb9;\n",
              "            color:  #000000;\n",
              "        }#T_f7ba5096_63a7_11eb_bb28_0242ac1c0002row7_col3{\n",
              "            background-color:  #c8e2c8;\n",
              "            color:  #000000;\n",
              "        }#T_f7ba5096_63a7_11eb_bb28_0242ac1c0002row8_col2{\n",
              "            background-color:  #a9d3a9;\n",
              "            color:  #000000;\n",
              "        }#T_f7ba5096_63a7_11eb_bb28_0242ac1c0002row8_col3{\n",
              "            background-color:  #bbdcbb;\n",
              "            color:  #000000;\n",
              "        }#T_f7ba5096_63a7_11eb_bb28_0242ac1c0002row9_col1{\n",
              "            background-color:  #cce4cc;\n",
              "            color:  #000000;\n",
              "        }#T_f7ba5096_63a7_11eb_bb28_0242ac1c0002row9_col2,#T_f7ba5096_63a7_11eb_bb28_0242ac1c0002row30_col1,#T_f7ba5096_63a7_11eb_bb28_0242ac1c0002row44_col2{\n",
              "            background-color:  #d8ead8;\n",
              "            color:  #000000;\n",
              "        }#T_f7ba5096_63a7_11eb_bb28_0242ac1c0002row9_col3,#T_f7ba5096_63a7_11eb_bb28_0242ac1c0002row36_col2,#T_f7ba5096_63a7_11eb_bb28_0242ac1c0002row38_col1,#T_f7ba5096_63a7_11eb_bb28_0242ac1c0002row38_col3,#T_f7ba5096_63a7_11eb_bb28_0242ac1c0002row49_col2{\n",
              "            background-color:  #c9e2c8;\n",
              "            color:  #000000;\n",
              "        }#T_f7ba5096_63a7_11eb_bb28_0242ac1c0002row10_col1,#T_f7ba5096_63a7_11eb_bb28_0242ac1c0002row17_col1,#T_f7ba5096_63a7_11eb_bb28_0242ac1c0002row44_col1,#T_f7ba5096_63a7_11eb_bb28_0242ac1c0002row46_col1{\n",
              "            background-color:  #e0eedf;\n",
              "            color:  #000000;\n",
              "        }#T_f7ba5096_63a7_11eb_bb28_0242ac1c0002row10_col2{\n",
              "            background-color:  #cae3ca;\n",
              "            color:  #000000;\n",
              "        }#T_f7ba5096_63a7_11eb_bb28_0242ac1c0002row11_col1,#T_f7ba5096_63a7_11eb_bb28_0242ac1c0002row20_col3,#T_f7ba5096_63a7_11eb_bb28_0242ac1c0002row40_col3,#T_f7ba5096_63a7_11eb_bb28_0242ac1c0002row49_col3{\n",
              "            background-color:  #9bcc9b;\n",
              "            color:  #000000;\n",
              "        }#T_f7ba5096_63a7_11eb_bb28_0242ac1c0002row11_col3{\n",
              "            background-color:  #1a8d1a;\n",
              "            color:  #000000;\n",
              "        }#T_f7ba5096_63a7_11eb_bb28_0242ac1c0002row12_col1,#T_f7ba5096_63a7_11eb_bb28_0242ac1c0002row23_col1,#T_f7ba5096_63a7_11eb_bb28_0242ac1c0002row23_col3,#T_f7ba5096_63a7_11eb_bb28_0242ac1c0002row25_col1,#T_f7ba5096_63a7_11eb_bb28_0242ac1c0002row37_col1,#T_f7ba5096_63a7_11eb_bb28_0242ac1c0002row43_col1,#T_f7ba5096_63a7_11eb_bb28_0242ac1c0002row54_col1,#T_f7ba5096_63a7_11eb_bb28_0242ac1c0002row54_col3{\n",
              "            background-color:  #eaf2ea;\n",
              "            color:  #000000;\n",
              "        }#T_f7ba5096_63a7_11eb_bb28_0242ac1c0002row12_col3{\n",
              "            background-color:  #e7f1e7;\n",
              "            color:  #000000;\n",
              "        }#T_f7ba5096_63a7_11eb_bb28_0242ac1c0002row13_col1,#T_f7ba5096_63a7_11eb_bb28_0242ac1c0002row20_col1{\n",
              "            background-color:  #a6d2a6;\n",
              "            color:  #000000;\n",
              "        }#T_f7ba5096_63a7_11eb_bb28_0242ac1c0002row13_col3{\n",
              "            background-color:  #b8dab8;\n",
              "            color:  #000000;\n",
              "        }#T_f7ba5096_63a7_11eb_bb28_0242ac1c0002row14_col1{\n",
              "            background-color:  #e4f0e4;\n",
              "            color:  #000000;\n",
              "        }#T_f7ba5096_63a7_11eb_bb28_0242ac1c0002row14_col2,#T_f7ba5096_63a7_11eb_bb28_0242ac1c0002row46_col3{\n",
              "            background-color:  #cfe5cf;\n",
              "            color:  #000000;\n",
              "        }#T_f7ba5096_63a7_11eb_bb28_0242ac1c0002row15_col3{\n",
              "            background-color:  #e5f0e5;\n",
              "            color:  #000000;\n",
              "        }#T_f7ba5096_63a7_11eb_bb28_0242ac1c0002row16_col1{\n",
              "            background-color:  #6cb56c;\n",
              "            color:  #000000;\n",
              "        }#T_f7ba5096_63a7_11eb_bb28_0242ac1c0002row16_col2,#T_f7ba5096_63a7_11eb_bb28_0242ac1c0002row28_col1{\n",
              "            background-color:  #9dcd9d;\n",
              "            color:  #000000;\n",
              "        }#T_f7ba5096_63a7_11eb_bb28_0242ac1c0002row18_col1{\n",
              "            background-color:  #d9ead9;\n",
              "            color:  #000000;\n",
              "        }#T_f7ba5096_63a7_11eb_bb28_0242ac1c0002row18_col3{\n",
              "            background-color:  #deedde;\n",
              "            color:  #000000;\n",
              "        }#T_f7ba5096_63a7_11eb_bb28_0242ac1c0002row19_col1{\n",
              "            background-color:  #40a040;\n",
              "            color:  #000000;\n",
              "        }#T_f7ba5096_63a7_11eb_bb28_0242ac1c0002row19_col2{\n",
              "            background-color:  #3e9e3e;\n",
              "            color:  #000000;\n",
              "        }#T_f7ba5096_63a7_11eb_bb28_0242ac1c0002row20_col2{\n",
              "            background-color:  #bddcbd;\n",
              "            color:  #000000;\n",
              "        }#T_f7ba5096_63a7_11eb_bb28_0242ac1c0002row22_col1,#T_f7ba5096_63a7_11eb_bb28_0242ac1c0002row50_col3{\n",
              "            background-color:  #8bc48b;\n",
              "            color:  #000000;\n",
              "        }#T_f7ba5096_63a7_11eb_bb28_0242ac1c0002row22_col2{\n",
              "            background-color:  #8fc68f;\n",
              "            color:  #000000;\n",
              "        }#T_f7ba5096_63a7_11eb_bb28_0242ac1c0002row22_col3{\n",
              "            background-color:  #6bb46b;\n",
              "            color:  #000000;\n",
              "        }#T_f7ba5096_63a7_11eb_bb28_0242ac1c0002row24_col1{\n",
              "            background-color:  #a6d1a6;\n",
              "            color:  #000000;\n",
              "        }#T_f7ba5096_63a7_11eb_bb28_0242ac1c0002row24_col2{\n",
              "            background-color:  #a2cfa2;\n",
              "            color:  #000000;\n",
              "        }#T_f7ba5096_63a7_11eb_bb28_0242ac1c0002row24_col3{\n",
              "            background-color:  #89c389;\n",
              "            color:  #000000;\n",
              "        }#T_f7ba5096_63a7_11eb_bb28_0242ac1c0002row25_col2{\n",
              "            background-color:  #a8d2a8;\n",
              "            color:  #000000;\n",
              "        }#T_f7ba5096_63a7_11eb_bb28_0242ac1c0002row25_col3{\n",
              "            background-color:  #bfdebf;\n",
              "            color:  #000000;\n",
              "        }#T_f7ba5096_63a7_11eb_bb28_0242ac1c0002row27_col1,#T_f7ba5096_63a7_11eb_bb28_0242ac1c0002row55_col1{\n",
              "            background-color:  #cbe4cb;\n",
              "            color:  #000000;\n",
              "        }#T_f7ba5096_63a7_11eb_bb28_0242ac1c0002row27_col3,#T_f7ba5096_63a7_11eb_bb28_0242ac1c0002row43_col2{\n",
              "            background-color:  #c5e0c5;\n",
              "            color:  #000000;\n",
              "        }#T_f7ba5096_63a7_11eb_bb28_0242ac1c0002row28_col3,#T_f7ba5096_63a7_11eb_bb28_0242ac1c0002row36_col3{\n",
              "            background-color:  #b2d7b2;\n",
              "            color:  #000000;\n",
              "        }#T_f7ba5096_63a7_11eb_bb28_0242ac1c0002row29_col2,#T_f7ba5096_63a7_11eb_bb28_0242ac1c0002row35_col3{\n",
              "            background-color:  #79bc79;\n",
              "            color:  #000000;\n",
              "        }#T_f7ba5096_63a7_11eb_bb28_0242ac1c0002row29_col3,#T_f7ba5096_63a7_11eb_bb28_0242ac1c0002row39_col2{\n",
              "            background-color:  #a0cea0;\n",
              "            color:  #000000;\n",
              "        }#T_f7ba5096_63a7_11eb_bb28_0242ac1c0002row30_col3,#T_f7ba5096_63a7_11eb_bb28_0242ac1c0002row33_col1,#T_f7ba5096_63a7_11eb_bb28_0242ac1c0002row41_col1{\n",
              "            background-color:  #daebda;\n",
              "            color:  #000000;\n",
              "        }#T_f7ba5096_63a7_11eb_bb28_0242ac1c0002row31_col1,#T_f7ba5096_63a7_11eb_bb28_0242ac1c0002row35_col2,#T_f7ba5096_63a7_11eb_bb28_0242ac1c0002row52_col2{\n",
              "            background-color:  #81bf81;\n",
              "            color:  #000000;\n",
              "        }#T_f7ba5096_63a7_11eb_bb28_0242ac1c0002row31_col3{\n",
              "            background-color:  #9acb9a;\n",
              "            color:  #000000;\n",
              "        }#T_f7ba5096_63a7_11eb_bb28_0242ac1c0002row32_col1,#T_f7ba5096_63a7_11eb_bb28_0242ac1c0002row44_col3{\n",
              "            background-color:  #d6e9d6;\n",
              "            color:  #000000;\n",
              "        }#T_f7ba5096_63a7_11eb_bb28_0242ac1c0002row32_col3{\n",
              "            background-color:  #dcecdc;\n",
              "            color:  #000000;\n",
              "        }#T_f7ba5096_63a7_11eb_bb28_0242ac1c0002row33_col2,#T_f7ba5096_63a7_11eb_bb28_0242ac1c0002row38_col2,#T_f7ba5096_63a7_11eb_bb28_0242ac1c0002row45_col2{\n",
              "            background-color:  #ddecdd;\n",
              "            color:  #000000;\n",
              "        }#T_f7ba5096_63a7_11eb_bb28_0242ac1c0002row33_col3{\n",
              "            background-color:  #d5e9d5;\n",
              "            color:  #000000;\n",
              "        }#T_f7ba5096_63a7_11eb_bb28_0242ac1c0002row34_col1,#T_f7ba5096_63a7_11eb_bb28_0242ac1c0002row37_col3{\n",
              "            background-color:  #dbebdb;\n",
              "            color:  #000000;\n",
              "        }#T_f7ba5096_63a7_11eb_bb28_0242ac1c0002row34_col2{\n",
              "            background-color:  #43a143;\n",
              "            color:  #000000;\n",
              "        }#T_f7ba5096_63a7_11eb_bb28_0242ac1c0002row34_col3{\n",
              "            background-color:  #75b975;\n",
              "            color:  #000000;\n",
              "        }#T_f7ba5096_63a7_11eb_bb28_0242ac1c0002row35_col1{\n",
              "            background-color:  #acd4ac;\n",
              "            color:  #000000;\n",
              "        }#T_f7ba5096_63a7_11eb_bb28_0242ac1c0002row36_col1{\n",
              "            background-color:  #bcdcbc;\n",
              "            color:  #000000;\n",
              "        }#T_f7ba5096_63a7_11eb_bb28_0242ac1c0002row39_col3{\n",
              "            background-color:  #b5d9b5;\n",
              "            color:  #000000;\n",
              "        }#T_f7ba5096_63a7_11eb_bb28_0242ac1c0002row40_col1{\n",
              "            background-color:  #aad3aa;\n",
              "            color:  #000000;\n",
              "        }#T_f7ba5096_63a7_11eb_bb28_0242ac1c0002row41_col3{\n",
              "            background-color:  #beddbe;\n",
              "            color:  #000000;\n",
              "        }#T_f7ba5096_63a7_11eb_bb28_0242ac1c0002row42_col3,#T_f7ba5096_63a7_11eb_bb28_0242ac1c0002row43_col3{\n",
              "            background-color:  #d2e7d2;\n",
              "            color:  #000000;\n",
              "        }#T_f7ba5096_63a7_11eb_bb28_0242ac1c0002row45_col1{\n",
              "            background-color:  #c4e0c4;\n",
              "            color:  #000000;\n",
              "        }#T_f7ba5096_63a7_11eb_bb28_0242ac1c0002row45_col3{\n",
              "            background-color:  #c6e1c6;\n",
              "            color:  #000000;\n",
              "        }#T_f7ba5096_63a7_11eb_bb28_0242ac1c0002row47_col1{\n",
              "            background-color:  #bdddbd;\n",
              "            color:  #000000;\n",
              "        }#T_f7ba5096_63a7_11eb_bb28_0242ac1c0002row47_col2{\n",
              "            background-color:  #74b974;\n",
              "            color:  #000000;\n",
              "        }#T_f7ba5096_63a7_11eb_bb28_0242ac1c0002row47_col3{\n",
              "            background-color:  #7ebe7e;\n",
              "            color:  #000000;\n",
              "        }#T_f7ba5096_63a7_11eb_bb28_0242ac1c0002row49_col1{\n",
              "            background-color:  #9ccd9c;\n",
              "            color:  #000000;\n",
              "        }#T_f7ba5096_63a7_11eb_bb28_0242ac1c0002row50_col1{\n",
              "            background-color:  #c2dfc2;\n",
              "            color:  #000000;\n",
              "        }#T_f7ba5096_63a7_11eb_bb28_0242ac1c0002row50_col2{\n",
              "            background-color:  #83c083;\n",
              "            color:  #000000;\n",
              "        }#T_f7ba5096_63a7_11eb_bb28_0242ac1c0002row51_col1{\n",
              "            background-color:  #6eb66e;\n",
              "            color:  #000000;\n",
              "        }#T_f7ba5096_63a7_11eb_bb28_0242ac1c0002row51_col2{\n",
              "            background-color:  #61b061;\n",
              "            color:  #000000;\n",
              "        }#T_f7ba5096_63a7_11eb_bb28_0242ac1c0002row51_col3{\n",
              "            background-color:  #389b38;\n",
              "            color:  #000000;\n",
              "        }#T_f7ba5096_63a7_11eb_bb28_0242ac1c0002row52_col1{\n",
              "            background-color:  #86c286;\n",
              "            color:  #000000;\n",
              "        }#T_f7ba5096_63a7_11eb_bb28_0242ac1c0002row52_col3{\n",
              "            background-color:  #5dae5d;\n",
              "            color:  #000000;\n",
              "        }#T_f7ba5096_63a7_11eb_bb28_0242ac1c0002row53_col1{\n",
              "            background-color:  #b6d9b6;\n",
              "            color:  #000000;\n",
              "        }#T_f7ba5096_63a7_11eb_bb28_0242ac1c0002row53_col3{\n",
              "            background-color:  #c1dfc1;\n",
              "            color:  #000000;\n",
              "        }</style><table id=\"T_f7ba5096_63a7_11eb_bb28_0242ac1c0002\" ><thead>    <tr>        <th class=\"blank level0\" ></th>        <th class=\"col_heading level0 col0\" >airline</th>        <th class=\"col_heading level0 col1\" >safety_score_85_99</th>        <th class=\"col_heading level0 col2\" >safety_score_00_14</th>        <th class=\"col_heading level0 col3\" >combined_safety_score</th>    </tr></thead><tbody>\n",
              "                <tr>\n",
              "                        <th id=\"T_f7ba5096_63a7_11eb_bb28_0242ac1c0002level0_row0\" class=\"row_heading level0 row0\" >0</th>\n",
              "                        <td id=\"T_f7ba5096_63a7_11eb_bb28_0242ac1c0002row0_col0\" class=\"data row0 col0\" >Aer Lingus</td>\n",
              "                        <td id=\"T_f7ba5096_63a7_11eb_bb28_0242ac1c0002row0_col1\" class=\"data row0 col1\" >-0.671698</td>\n",
              "                        <td id=\"T_f7ba5096_63a7_11eb_bb28_0242ac1c0002row0_col2\" class=\"data row0 col2\" >-0.731801</td>\n",
              "                        <td id=\"T_f7ba5096_63a7_11eb_bb28_0242ac1c0002row0_col3\" class=\"data row0 col3\" >-1.403498</td>\n",
              "            </tr>\n",
              "            <tr>\n",
              "                        <th id=\"T_f7ba5096_63a7_11eb_bb28_0242ac1c0002level0_row1\" class=\"row_heading level0 row1\" >1</th>\n",
              "                        <td id=\"T_f7ba5096_63a7_11eb_bb28_0242ac1c0002row1_col0\" class=\"data row1 col0\" >Aeroflot*</td>\n",
              "                        <td id=\"T_f7ba5096_63a7_11eb_bb28_0242ac1c0002row1_col1\" class=\"data row1 col1\" >3.523056</td>\n",
              "                        <td id=\"T_f7ba5096_63a7_11eb_bb28_0242ac1c0002row1_col2\" class=\"data row1 col2\" >0.369791</td>\n",
              "                        <td id=\"T_f7ba5096_63a7_11eb_bb28_0242ac1c0002row1_col3\" class=\"data row1 col3\" >3.892847</td>\n",
              "            </tr>\n",
              "            <tr>\n",
              "                        <th id=\"T_f7ba5096_63a7_11eb_bb28_0242ac1c0002level0_row2\" class=\"row_heading level0 row2\" >2</th>\n",
              "                        <td id=\"T_f7ba5096_63a7_11eb_bb28_0242ac1c0002row2_col0\" class=\"data row2 col0\" >Aerolineas Argentinas</td>\n",
              "                        <td id=\"T_f7ba5096_63a7_11eb_bb28_0242ac1c0002row2_col1\" class=\"data row2 col1\" >-0.549784</td>\n",
              "                        <td id=\"T_f7ba5096_63a7_11eb_bb28_0242ac1c0002row2_col2\" class=\"data row2 col2\" >-0.657796</td>\n",
              "                        <td id=\"T_f7ba5096_63a7_11eb_bb28_0242ac1c0002row2_col3\" class=\"data row2 col3\" >-1.207580</td>\n",
              "            </tr>\n",
              "            <tr>\n",
              "                        <th id=\"T_f7ba5096_63a7_11eb_bb28_0242ac1c0002level0_row3\" class=\"row_heading level0 row3\" >3</th>\n",
              "                        <td id=\"T_f7ba5096_63a7_11eb_bb28_0242ac1c0002row3_col0\" class=\"data row3 col0\" >Aeromexico*</td>\n",
              "                        <td id=\"T_f7ba5096_63a7_11eb_bb28_0242ac1c0002row3_col1\" class=\"data row3 col1\" >-0.376912</td>\n",
              "                        <td id=\"T_f7ba5096_63a7_11eb_bb28_0242ac1c0002row3_col2\" class=\"data row3 col2\" >-0.361777</td>\n",
              "                        <td id=\"T_f7ba5096_63a7_11eb_bb28_0242ac1c0002row3_col3\" class=\"data row3 col3\" >-0.738689</td>\n",
              "            </tr>\n",
              "            <tr>\n",
              "                        <th id=\"T_f7ba5096_63a7_11eb_bb28_0242ac1c0002level0_row4\" class=\"row_heading level0 row4\" >4</th>\n",
              "                        <td id=\"T_f7ba5096_63a7_11eb_bb28_0242ac1c0002row4_col0\" class=\"data row4 col0\" >Air Canada</td>\n",
              "                        <td id=\"T_f7ba5096_63a7_11eb_bb28_0242ac1c0002row4_col1\" class=\"data row4 col1\" >-0.671698</td>\n",
              "                        <td id=\"T_f7ba5096_63a7_11eb_bb28_0242ac1c0002row4_col2\" class=\"data row4 col2\" >-0.583791</td>\n",
              "                        <td id=\"T_f7ba5096_63a7_11eb_bb28_0242ac1c0002row4_col3\" class=\"data row4 col3\" >-1.255489</td>\n",
              "            </tr>\n",
              "            <tr>\n",
              "                        <th id=\"T_f7ba5096_63a7_11eb_bb28_0242ac1c0002level0_row5\" class=\"row_heading level0 row5\" >5</th>\n",
              "                        <td id=\"T_f7ba5096_63a7_11eb_bb28_0242ac1c0002row5_col0\" class=\"data row5 col0\" >Air France</td>\n",
              "                        <td id=\"T_f7ba5096_63a7_11eb_bb28_0242ac1c0002row5_col1\" class=\"data row5 col1\" >0.345428</td>\n",
              "                        <td id=\"T_f7ba5096_63a7_11eb_bb28_0242ac1c0002row5_col2\" class=\"data row5 col2\" >1.513755</td>\n",
              "                        <td id=\"T_f7ba5096_63a7_11eb_bb28_0242ac1c0002row5_col3\" class=\"data row5 col3\" >1.859183</td>\n",
              "            </tr>\n",
              "            <tr>\n",
              "                        <th id=\"T_f7ba5096_63a7_11eb_bb28_0242ac1c0002level0_row6\" class=\"row_heading level0 row6\" >6</th>\n",
              "                        <td id=\"T_f7ba5096_63a7_11eb_bb28_0242ac1c0002row6_col0\" class=\"data row6 col0\" >Air India*</td>\n",
              "                        <td id=\"T_f7ba5096_63a7_11eb_bb28_0242ac1c0002row6_col1\" class=\"data row6 col1\" >0.200231</td>\n",
              "                        <td id=\"T_f7ba5096_63a7_11eb_bb28_0242ac1c0002row6_col2\" class=\"data row6 col2\" >0.433260</td>\n",
              "                        <td id=\"T_f7ba5096_63a7_11eb_bb28_0242ac1c0002row6_col3\" class=\"data row6 col3\" >0.633492</td>\n",
              "            </tr>\n",
              "            <tr>\n",
              "                        <th id=\"T_f7ba5096_63a7_11eb_bb28_0242ac1c0002level0_row7\" class=\"row_heading level0 row7\" >7</th>\n",
              "                        <td id=\"T_f7ba5096_63a7_11eb_bb28_0242ac1c0002row7_col0\" class=\"data row7 col0\" >Air New Zealand*</td>\n",
              "                        <td id=\"T_f7ba5096_63a7_11eb_bb28_0242ac1c0002row7_col1\" class=\"data row7 col1\" >-0.641219</td>\n",
              "                        <td id=\"T_f7ba5096_63a7_11eb_bb28_0242ac1c0002row7_col2\" class=\"data row7 col2\" >0.051075</td>\n",
              "                        <td id=\"T_f7ba5096_63a7_11eb_bb28_0242ac1c0002row7_col3\" class=\"data row7 col3\" >-0.590144</td>\n",
              "            </tr>\n",
              "            <tr>\n",
              "                        <th id=\"T_f7ba5096_63a7_11eb_bb28_0242ac1c0002level0_row8\" class=\"row_heading level0 row8\" >8</th>\n",
              "                        <td id=\"T_f7ba5096_63a7_11eb_bb28_0242ac1c0002row8_col0\" class=\"data row8 col0\" >Alaska Airlines*</td>\n",
              "                        <td id=\"T_f7ba5096_63a7_11eb_bb28_0242ac1c0002row8_col1\" class=\"data row8 col1\" >-0.580262</td>\n",
              "                        <td id=\"T_f7ba5096_63a7_11eb_bb28_0242ac1c0002row8_col2\" class=\"data row8 col2\" >0.295786</td>\n",
              "                        <td id=\"T_f7ba5096_63a7_11eb_bb28_0242ac1c0002row8_col3\" class=\"data row8 col3\" >-0.284476</td>\n",
              "            </tr>\n",
              "            <tr>\n",
              "                        <th id=\"T_f7ba5096_63a7_11eb_bb28_0242ac1c0002level0_row9\" class=\"row_heading level0 row9\" >9</th>\n",
              "                        <td id=\"T_f7ba5096_63a7_11eb_bb28_0242ac1c0002row9_col0\" class=\"data row9 col0\" >Alitalia</td>\n",
              "                        <td id=\"T_f7ba5096_63a7_11eb_bb28_0242ac1c0002row9_col1\" class=\"data row9 col1\" >-0.169538</td>\n",
              "                        <td id=\"T_f7ba5096_63a7_11eb_bb28_0242ac1c0002row9_col2\" class=\"data row9 col2\" >-0.435781</td>\n",
              "                        <td id=\"T_f7ba5096_63a7_11eb_bb28_0242ac1c0002row9_col3\" class=\"data row9 col3\" >-0.605319</td>\n",
              "            </tr>\n",
              "            <tr>\n",
              "                        <th id=\"T_f7ba5096_63a7_11eb_bb28_0242ac1c0002level0_row10\" class=\"row_heading level0 row10\" >10</th>\n",
              "                        <td id=\"T_f7ba5096_63a7_11eb_bb28_0242ac1c0002row10_col0\" class=\"data row10 col0\" >All Nippon Airways</td>\n",
              "                        <td id=\"T_f7ba5096_63a7_11eb_bb28_0242ac1c0002row10_col1\" class=\"data row10 col1\" >-0.521366</td>\n",
              "                        <td id=\"T_f7ba5096_63a7_11eb_bb28_0242ac1c0002row10_col2\" class=\"data row10 col2\" >-0.213767</td>\n",
              "                        <td id=\"T_f7ba5096_63a7_11eb_bb28_0242ac1c0002row10_col3\" class=\"data row10 col3\" >-0.735133</td>\n",
              "            </tr>\n",
              "            <tr>\n",
              "                        <th id=\"T_f7ba5096_63a7_11eb_bb28_0242ac1c0002level0_row11\" class=\"row_heading level0 row11\" >11</th>\n",
              "                        <td id=\"T_f7ba5096_63a7_11eb_bb28_0242ac1c0002row11_col0\" class=\"data row11 col0\" >American*</td>\n",
              "                        <td id=\"T_f7ba5096_63a7_11eb_bb28_0242ac1c0002row11_col1\" class=\"data row11 col1\" >0.726782</td>\n",
              "                        <td id=\"T_f7ba5096_63a7_11eb_bb28_0242ac1c0002row11_col2\" class=\"data row11 col2\" >2.958180</td>\n",
              "                        <td id=\"T_f7ba5096_63a7_11eb_bb28_0242ac1c0002row11_col3\" class=\"data row11 col3\" >3.684963</td>\n",
              "            </tr>\n",
              "            <tr>\n",
              "                        <th id=\"T_f7ba5096_63a7_11eb_bb28_0242ac1c0002level0_row12\" class=\"row_heading level0 row12\" >12</th>\n",
              "                        <td id=\"T_f7ba5096_63a7_11eb_bb28_0242ac1c0002row12_col0\" class=\"data row12 col0\" >Austrian Airlines</td>\n",
              "                        <td id=\"T_f7ba5096_63a7_11eb_bb28_0242ac1c0002row12_col1\" class=\"data row12 col1\" >-0.702176</td>\n",
              "                        <td id=\"T_f7ba5096_63a7_11eb_bb28_0242ac1c0002row12_col2\" class=\"data row12 col2\" >-0.657796</td>\n",
              "                        <td id=\"T_f7ba5096_63a7_11eb_bb28_0242ac1c0002row12_col3\" class=\"data row12 col3\" >-1.359972</td>\n",
              "            </tr>\n",
              "            <tr>\n",
              "                        <th id=\"T_f7ba5096_63a7_11eb_bb28_0242ac1c0002level0_row13\" class=\"row_heading level0 row13\" >13</th>\n",
              "                        <td id=\"T_f7ba5096_63a7_11eb_bb28_0242ac1c0002row13_col0\" class=\"data row13 col0\" >Avianca</td>\n",
              "                        <td id=\"T_f7ba5096_63a7_11eb_bb28_0242ac1c0002row13_col1\" class=\"data row13 col1\" >0.513031</td>\n",
              "                        <td id=\"T_f7ba5096_63a7_11eb_bb28_0242ac1c0002row13_col2\" class=\"data row13 col2\" >-0.731801</td>\n",
              "                        <td id=\"T_f7ba5096_63a7_11eb_bb28_0242ac1c0002row13_col3\" class=\"data row13 col3\" >-0.218769</td>\n",
              "            </tr>\n",
              "            <tr>\n",
              "                        <th id=\"T_f7ba5096_63a7_11eb_bb28_0242ac1c0002level0_row14\" class=\"row_heading level0 row14\" >14</th>\n",
              "                        <td id=\"T_f7ba5096_63a7_11eb_bb28_0242ac1c0002row14_col0\" class=\"data row14 col0\" >British Airways*</td>\n",
              "                        <td id=\"T_f7ba5096_63a7_11eb_bb28_0242ac1c0002row14_col1\" class=\"data row14 col1\" >-0.610741</td>\n",
              "                        <td id=\"T_f7ba5096_63a7_11eb_bb28_0242ac1c0002row14_col2\" class=\"data row14 col2\" >-0.287772</td>\n",
              "                        <td id=\"T_f7ba5096_63a7_11eb_bb28_0242ac1c0002row14_col3\" class=\"data row14 col3\" >-0.898513</td>\n",
              "            </tr>\n",
              "            <tr>\n",
              "                        <th id=\"T_f7ba5096_63a7_11eb_bb28_0242ac1c0002level0_row15\" class=\"row_heading level0 row15\" >15</th>\n",
              "                        <td id=\"T_f7ba5096_63a7_11eb_bb28_0242ac1c0002row15_col0\" class=\"data row15 col0\" >Cathay Pacific*</td>\n",
              "                        <td id=\"T_f7ba5096_63a7_11eb_bb28_0242ac1c0002row15_col1\" class=\"data row15 col1\" >-0.732655</td>\n",
              "                        <td id=\"T_f7ba5096_63a7_11eb_bb28_0242ac1c0002row15_col2\" class=\"data row15 col2\" >-0.583791</td>\n",
              "                        <td id=\"T_f7ba5096_63a7_11eb_bb28_0242ac1c0002row15_col3\" class=\"data row15 col3\" >-1.316446</td>\n",
              "            </tr>\n",
              "            <tr>\n",
              "                        <th id=\"T_f7ba5096_63a7_11eb_bb28_0242ac1c0002level0_row16\" class=\"row_heading level0 row16\" >16</th>\n",
              "                        <td id=\"T_f7ba5096_63a7_11eb_bb28_0242ac1c0002row16_col0\" class=\"data row16 col0\" >China Airlines</td>\n",
              "                        <td id=\"T_f7ba5096_63a7_11eb_bb28_0242ac1c0002row16_col1\" class=\"data row16 col1\" >1.565161</td>\n",
              "                        <td id=\"T_f7ba5096_63a7_11eb_bb28_0242ac1c0002row16_col2\" class=\"data row16 col2\" >0.487666</td>\n",
              "                        <td id=\"T_f7ba5096_63a7_11eb_bb28_0242ac1c0002row16_col3\" class=\"data row16 col3\" >2.052827</td>\n",
              "            </tr>\n",
              "            <tr>\n",
              "                        <th id=\"T_f7ba5096_63a7_11eb_bb28_0242ac1c0002level0_row17\" class=\"row_heading level0 row17\" >17</th>\n",
              "                        <td id=\"T_f7ba5096_63a7_11eb_bb28_0242ac1c0002row17_col0\" class=\"data row17 col0\" >Condor</td>\n",
              "                        <td id=\"T_f7ba5096_63a7_11eb_bb28_0242ac1c0002row17_col1\" class=\"data row17 col1\" >-0.517450</td>\n",
              "                        <td id=\"T_f7ba5096_63a7_11eb_bb28_0242ac1c0002row17_col2\" class=\"data row17 col2\" >-0.731801</td>\n",
              "                        <td id=\"T_f7ba5096_63a7_11eb_bb28_0242ac1c0002row17_col3\" class=\"data row17 col3\" >-1.249251</td>\n",
              "            </tr>\n",
              "            <tr>\n",
              "                        <th id=\"T_f7ba5096_63a7_11eb_bb28_0242ac1c0002level0_row18\" class=\"row_heading level0 row18\" >18</th>\n",
              "                        <td id=\"T_f7ba5096_63a7_11eb_bb28_0242ac1c0002row18_col0\" class=\"data row18 col0\" >COPA</td>\n",
              "                        <td id=\"T_f7ba5096_63a7_11eb_bb28_0242ac1c0002row18_col1\" class=\"data row18 col1\" >-0.415892</td>\n",
              "                        <td id=\"T_f7ba5096_63a7_11eb_bb28_0242ac1c0002row18_col2\" class=\"data row18 col2\" >-0.731801</td>\n",
              "                        <td id=\"T_f7ba5096_63a7_11eb_bb28_0242ac1c0002row18_col3\" class=\"data row18 col3\" >-1.147692</td>\n",
              "            </tr>\n",
              "            <tr>\n",
              "                        <th id=\"T_f7ba5096_63a7_11eb_bb28_0242ac1c0002level0_row19\" class=\"row_heading level0 row19\" >19</th>\n",
              "                        <td id=\"T_f7ba5096_63a7_11eb_bb28_0242ac1c0002row19_col0\" class=\"data row19 col0\" >Delta / Northwest*</td>\n",
              "                        <td id=\"T_f7ba5096_63a7_11eb_bb28_0242ac1c0002row19_col1\" class=\"data row19 col1\" >2.342776</td>\n",
              "                        <td id=\"T_f7ba5096_63a7_11eb_bb28_0242ac1c0002row19_col2\" class=\"data row19 col2\" >1.981800</td>\n",
              "                        <td id=\"T_f7ba5096_63a7_11eb_bb28_0242ac1c0002row19_col3\" class=\"data row19 col3\" >4.324575</td>\n",
              "            </tr>\n",
              "            <tr>\n",
              "                        <th id=\"T_f7ba5096_63a7_11eb_bb28_0242ac1c0002level0_row20\" class=\"row_heading level0 row20\" >20</th>\n",
              "                        <td id=\"T_f7ba5096_63a7_11eb_bb28_0242ac1c0002row20_col0\" class=\"data row20 col0\" >Egyptair</td>\n",
              "                        <td id=\"T_f7ba5096_63a7_11eb_bb28_0242ac1c0002row20_col1\" class=\"data row20 col1\" >0.510457</td>\n",
              "                        <td id=\"T_f7ba5096_63a7_11eb_bb28_0242ac1c0002row20_col2\" class=\"data row20 col2\" >-0.001782</td>\n",
              "                        <td id=\"T_f7ba5096_63a7_11eb_bb28_0242ac1c0002row20_col3\" class=\"data row20 col3\" >0.508676</td>\n",
              "            </tr>\n",
              "            <tr>\n",
              "                        <th id=\"T_f7ba5096_63a7_11eb_bb28_0242ac1c0002level0_row21\" class=\"row_heading level0 row21\" >21</th>\n",
              "                        <td id=\"T_f7ba5096_63a7_11eb_bb28_0242ac1c0002row21_col0\" class=\"data row21 col0\" >El Al</td>\n",
              "                        <td id=\"T_f7ba5096_63a7_11eb_bb28_0242ac1c0002row21_col1\" class=\"data row21 col1\" >-0.575444</td>\n",
              "                        <td id=\"T_f7ba5096_63a7_11eb_bb28_0242ac1c0002row21_col2\" class=\"data row21 col2\" >-0.657796</td>\n",
              "                        <td id=\"T_f7ba5096_63a7_11eb_bb28_0242ac1c0002row21_col3\" class=\"data row21 col3\" >-1.233240</td>\n",
              "            </tr>\n",
              "            <tr>\n",
              "                        <th id=\"T_f7ba5096_63a7_11eb_bb28_0242ac1c0002level0_row22\" class=\"row_heading level0 row22\" >22</th>\n",
              "                        <td id=\"T_f7ba5096_63a7_11eb_bb28_0242ac1c0002row22_col0\" class=\"data row22 col0\" >Ethiopian Airlines</td>\n",
              "                        <td id=\"T_f7ba5096_63a7_11eb_bb28_0242ac1c0002row22_col1\" class=\"data row22 col1\" >1.000028</td>\n",
              "                        <td id=\"T_f7ba5096_63a7_11eb_bb28_0242ac1c0002row22_col2\" class=\"data row22 col2\" >0.699575</td>\n",
              "                        <td id=\"T_f7ba5096_63a7_11eb_bb28_0242ac1c0002row22_col3\" class=\"data row22 col3\" >1.699603</td>\n",
              "            </tr>\n",
              "            <tr>\n",
              "                        <th id=\"T_f7ba5096_63a7_11eb_bb28_0242ac1c0002level0_row23\" class=\"row_heading level0 row23\" >23</th>\n",
              "                        <td id=\"T_f7ba5096_63a7_11eb_bb28_0242ac1c0002row23_col0\" class=\"data row23 col0\" >Finnair</td>\n",
              "                        <td id=\"T_f7ba5096_63a7_11eb_bb28_0242ac1c0002row23_col1\" class=\"data row23 col1\" >-0.702176</td>\n",
              "                        <td id=\"T_f7ba5096_63a7_11eb_bb28_0242ac1c0002row23_col2\" class=\"data row23 col2\" >-0.731801</td>\n",
              "                        <td id=\"T_f7ba5096_63a7_11eb_bb28_0242ac1c0002row23_col3\" class=\"data row23 col3\" >-1.433977</td>\n",
              "            </tr>\n",
              "            <tr>\n",
              "                        <th id=\"T_f7ba5096_63a7_11eb_bb28_0242ac1c0002level0_row24\" class=\"row_heading level0 row24\" >24</th>\n",
              "                        <td id=\"T_f7ba5096_63a7_11eb_bb28_0242ac1c0002row24_col0\" class=\"data row24 col0\" >Garuda Indonesia</td>\n",
              "                        <td id=\"T_f7ba5096_63a7_11eb_bb28_0242ac1c0002row24_col1\" class=\"data row24 col1\" >0.520970</td>\n",
              "                        <td id=\"T_f7ba5096_63a7_11eb_bb28_0242ac1c0002row24_col2\" class=\"data row24 col2\" >0.414092</td>\n",
              "                        <td id=\"T_f7ba5096_63a7_11eb_bb28_0242ac1c0002row24_col3\" class=\"data row24 col3\" >0.935062</td>\n",
              "            </tr>\n",
              "            <tr>\n",
              "                        <th id=\"T_f7ba5096_63a7_11eb_bb28_0242ac1c0002level0_row25\" class=\"row_heading level0 row25\" >25</th>\n",
              "                        <td id=\"T_f7ba5096_63a7_11eb_bb28_0242ac1c0002row25_col0\" class=\"data row25 col0\" >Gulf Air</td>\n",
              "                        <td id=\"T_f7ba5096_63a7_11eb_bb28_0242ac1c0002row25_col1\" class=\"data row25 col1\" >-0.702176</td>\n",
              "                        <td id=\"T_f7ba5096_63a7_11eb_bb28_0242ac1c0002row25_col2\" class=\"data row25 col2\" >0.313939</td>\n",
              "                        <td id=\"T_f7ba5096_63a7_11eb_bb28_0242ac1c0002row25_col3\" class=\"data row25 col3\" >-0.388238</td>\n",
              "            </tr>\n",
              "            <tr>\n",
              "                        <th id=\"T_f7ba5096_63a7_11eb_bb28_0242ac1c0002level0_row26\" class=\"row_heading level0 row26\" >26</th>\n",
              "                        <td id=\"T_f7ba5096_63a7_11eb_bb28_0242ac1c0002row26_col0\" class=\"data row26 col0\" >Hawaiian Airlines</td>\n",
              "                        <td id=\"T_f7ba5096_63a7_11eb_bb28_0242ac1c0002row26_col1\" class=\"data row26 col1\" >-0.732655</td>\n",
              "                        <td id=\"T_f7ba5096_63a7_11eb_bb28_0242ac1c0002row26_col2\" class=\"data row26 col2\" >-0.657796</td>\n",
              "                        <td id=\"T_f7ba5096_63a7_11eb_bb28_0242ac1c0002row26_col3\" class=\"data row26 col3\" >-1.390451</td>\n",
              "            </tr>\n",
              "            <tr>\n",
              "                        <th id=\"T_f7ba5096_63a7_11eb_bb28_0242ac1c0002level0_row27\" class=\"row_heading level0 row27\" >27</th>\n",
              "                        <td id=\"T_f7ba5096_63a7_11eb_bb28_0242ac1c0002row27_col0\" class=\"data row27 col0\" >Iberia</td>\n",
              "                        <td id=\"T_f7ba5096_63a7_11eb_bb28_0242ac1c0002row27_col1\" class=\"data row27 col1\" >-0.153829</td>\n",
              "                        <td id=\"T_f7ba5096_63a7_11eb_bb28_0242ac1c0002row27_col2\" class=\"data row27 col2\" >-0.361777</td>\n",
              "                        <td id=\"T_f7ba5096_63a7_11eb_bb28_0242ac1c0002row27_col3\" class=\"data row27 col3\" >-0.515606</td>\n",
              "            </tr>\n",
              "            <tr>\n",
              "                        <th id=\"T_f7ba5096_63a7_11eb_bb28_0242ac1c0002level0_row28\" class=\"row_heading level0 row28\" >28</th>\n",
              "                        <td id=\"T_f7ba5096_63a7_11eb_bb28_0242ac1c0002row28_col0\" class=\"data row28 col0\" >Japan Airlines</td>\n",
              "                        <td id=\"T_f7ba5096_63a7_11eb_bb28_0242ac1c0002row28_col1\" class=\"data row28 col1\" >0.668656</td>\n",
              "                        <td id=\"T_f7ba5096_63a7_11eb_bb28_0242ac1c0002row28_col2\" class=\"data row28 col2\" >-0.731801</td>\n",
              "                        <td id=\"T_f7ba5096_63a7_11eb_bb28_0242ac1c0002row28_col3\" class=\"data row28 col3\" >-0.063144</td>\n",
              "            </tr>\n",
              "            <tr>\n",
              "                        <th id=\"T_f7ba5096_63a7_11eb_bb28_0242ac1c0002level0_row29\" class=\"row_heading level0 row29\" >29</th>\n",
              "                        <td id=\"T_f7ba5096_63a7_11eb_bb28_0242ac1c0002row29_col0\" class=\"data row29 col0\" >Kenya Airways</td>\n",
              "                        <td id=\"T_f7ba5096_63a7_11eb_bb28_0242ac1c0002row29_col1\" class=\"data row29 col1\" >-0.671698</td>\n",
              "                        <td id=\"T_f7ba5096_63a7_11eb_bb28_0242ac1c0002row29_col2\" class=\"data row29 col2\" >1.054595</td>\n",
              "                        <td id=\"T_f7ba5096_63a7_11eb_bb28_0242ac1c0002row29_col3\" class=\"data row29 col3\" >0.382897</td>\n",
              "            </tr>\n",
              "            <tr>\n",
              "                        <th id=\"T_f7ba5096_63a7_11eb_bb28_0242ac1c0002level0_row30\" class=\"row_heading level0 row30\" >30</th>\n",
              "                        <td id=\"T_f7ba5096_63a7_11eb_bb28_0242ac1c0002row30_col0\" class=\"data row30 col0\" >KLM*</td>\n",
              "                        <td id=\"T_f7ba5096_63a7_11eb_bb28_0242ac1c0002row30_col1\" class=\"data row30 col1\" >-0.394866</td>\n",
              "                        <td id=\"T_f7ba5096_63a7_11eb_bb28_0242ac1c0002row30_col2\" class=\"data row30 col2\" >-0.657796</td>\n",
              "                        <td id=\"T_f7ba5096_63a7_11eb_bb28_0242ac1c0002row30_col3\" class=\"data row30 col3\" >-1.052662</td>\n",
              "            </tr>\n",
              "            <tr>\n",
              "                        <th id=\"T_f7ba5096_63a7_11eb_bb28_0242ac1c0002level0_row31\" class=\"row_heading level0 row31\" >31</th>\n",
              "                        <td id=\"T_f7ba5096_63a7_11eb_bb28_0242ac1c0002row31_col0\" class=\"data row31 col0\" >Korean Air</td>\n",
              "                        <td id=\"T_f7ba5096_63a7_11eb_bb28_0242ac1c0002row31_col1\" class=\"data row31 col1\" >1.195380</td>\n",
              "                        <td id=\"T_f7ba5096_63a7_11eb_bb28_0242ac1c0002row31_col2\" class=\"data row31 col2\" >-0.657796</td>\n",
              "                        <td id=\"T_f7ba5096_63a7_11eb_bb28_0242ac1c0002row31_col3\" class=\"data row31 col3\" >0.537584</td>\n",
              "            </tr>\n",
              "            <tr>\n",
              "                        <th id=\"T_f7ba5096_63a7_11eb_bb28_0242ac1c0002level0_row32\" class=\"row_heading level0 row32\" >32</th>\n",
              "                        <td id=\"T_f7ba5096_63a7_11eb_bb28_0242ac1c0002row32_col0\" class=\"data row32 col0\" >LAN Airlines</td>\n",
              "                        <td id=\"T_f7ba5096_63a7_11eb_bb28_0242ac1c0002row32_col1\" class=\"data row32 col1\" >-0.357946</td>\n",
              "                        <td id=\"T_f7ba5096_63a7_11eb_bb28_0242ac1c0002row32_col2\" class=\"data row32 col2\" >-0.731801</td>\n",
              "                        <td id=\"T_f7ba5096_63a7_11eb_bb28_0242ac1c0002row32_col3\" class=\"data row32 col3\" >-1.089747</td>\n",
              "            </tr>\n",
              "            <tr>\n",
              "                        <th id=\"T_f7ba5096_63a7_11eb_bb28_0242ac1c0002level0_row33\" class=\"row_heading level0 row33\" >33</th>\n",
              "                        <td id=\"T_f7ba5096_63a7_11eb_bb28_0242ac1c0002row33_col0\" class=\"data row33 col0\" >Lufthansa*</td>\n",
              "                        <td id=\"T_f7ba5096_63a7_11eb_bb28_0242ac1c0002row33_col1\" class=\"data row33 col1\" >-0.427637</td>\n",
              "                        <td id=\"T_f7ba5096_63a7_11eb_bb28_0242ac1c0002row33_col2\" class=\"data row33 col2\" >-0.509786</td>\n",
              "                        <td id=\"T_f7ba5096_63a7_11eb_bb28_0242ac1c0002row33_col3\" class=\"data row33 col3\" >-0.937423</td>\n",
              "            </tr>\n",
              "            <tr>\n",
              "                        <th id=\"T_f7ba5096_63a7_11eb_bb28_0242ac1c0002level0_row34\" class=\"row_heading level0 row34\" >34</th>\n",
              "                        <td id=\"T_f7ba5096_63a7_11eb_bb28_0242ac1c0002row34_col0\" class=\"data row34 col0\" >Malaysia Airlines</td>\n",
              "                        <td id=\"T_f7ba5096_63a7_11eb_bb28_0242ac1c0002row34_col1\" class=\"data row34 col1\" >-0.445699</td>\n",
              "                        <td id=\"T_f7ba5096_63a7_11eb_bb28_0242ac1c0002row34_col2\" class=\"data row34 col2\" >1.895965</td>\n",
              "                        <td id=\"T_f7ba5096_63a7_11eb_bb28_0242ac1c0002row34_col3\" class=\"data row34 col3\" >1.450266</td>\n",
              "            </tr>\n",
              "            <tr>\n",
              "                        <th id=\"T_f7ba5096_63a7_11eb_bb28_0242ac1c0002level0_row35\" class=\"row_heading level0 row35\" >35</th>\n",
              "                        <td id=\"T_f7ba5096_63a7_11eb_bb28_0242ac1c0002row35_col0\" class=\"data row35 col0\" >Pakistan International</td>\n",
              "                        <td id=\"T_f7ba5096_63a7_11eb_bb28_0242ac1c0002row35_col1\" class=\"data row35 col1\" >0.400397</td>\n",
              "                        <td id=\"T_f7ba5096_63a7_11eb_bb28_0242ac1c0002row35_col2\" class=\"data row35 col2\" >0.930627</td>\n",
              "                        <td id=\"T_f7ba5096_63a7_11eb_bb28_0242ac1c0002row35_col3\" class=\"data row35 col3\" >1.331025</td>\n",
              "            </tr>\n",
              "            <tr>\n",
              "                        <th id=\"T_f7ba5096_63a7_11eb_bb28_0242ac1c0002level0_row36\" class=\"row_heading level0 row36\" >36</th>\n",
              "                        <td id=\"T_f7ba5096_63a7_11eb_bb28_0242ac1c0002row36_col0\" class=\"data row36 col0\" >Philippine Airlines</td>\n",
              "                        <td id=\"T_f7ba5096_63a7_11eb_bb28_0242ac1c0002row36_col1\" class=\"data row36 col1\" >0.120614</td>\n",
              "                        <td id=\"T_f7ba5096_63a7_11eb_bb28_0242ac1c0002row36_col2\" class=\"data row36 col2\" >-0.189066</td>\n",
              "                        <td id=\"T_f7ba5096_63a7_11eb_bb28_0242ac1c0002row36_col3\" class=\"data row36 col3\" >-0.068452</td>\n",
              "            </tr>\n",
              "            <tr>\n",
              "                        <th id=\"T_f7ba5096_63a7_11eb_bb28_0242ac1c0002level0_row37\" class=\"row_heading level0 row37\" >37</th>\n",
              "                        <td id=\"T_f7ba5096_63a7_11eb_bb28_0242ac1c0002row37_col0\" class=\"data row37 col0\" >Qantas*</td>\n",
              "                        <td id=\"T_f7ba5096_63a7_11eb_bb28_0242ac1c0002row37_col1\" class=\"data row37 col1\" >-0.702176</td>\n",
              "                        <td id=\"T_f7ba5096_63a7_11eb_bb28_0242ac1c0002row37_col2\" class=\"data row37 col2\" >-0.361777</td>\n",
              "                        <td id=\"T_f7ba5096_63a7_11eb_bb28_0242ac1c0002row37_col3\" class=\"data row37 col3\" >-1.063953</td>\n",
              "            </tr>\n",
              "            <tr>\n",
              "                        <th id=\"T_f7ba5096_63a7_11eb_bb28_0242ac1c0002level0_row38\" class=\"row_heading level0 row38\" >38</th>\n",
              "                        <td id=\"T_f7ba5096_63a7_11eb_bb28_0242ac1c0002row38_col0\" class=\"data row38 col0\" >Royal Air Maroc</td>\n",
              "                        <td id=\"T_f7ba5096_63a7_11eb_bb28_0242ac1c0002row38_col1\" class=\"data row38 col1\" >-0.110641</td>\n",
              "                        <td id=\"T_f7ba5096_63a7_11eb_bb28_0242ac1c0002row38_col2\" class=\"data row38 col2\" >-0.509786</td>\n",
              "                        <td id=\"T_f7ba5096_63a7_11eb_bb28_0242ac1c0002row38_col3\" class=\"data row38 col3\" >-0.620427</td>\n",
              "            </tr>\n",
              "            <tr>\n",
              "                        <th id=\"T_f7ba5096_63a7_11eb_bb28_0242ac1c0002level0_row39\" class=\"row_heading level0 row39\" >39</th>\n",
              "                        <td id=\"T_f7ba5096_63a7_11eb_bb28_0242ac1c0002row39_col0\" class=\"data row39 col0\" >SAS*</td>\n",
              "                        <td id=\"T_f7ba5096_63a7_11eb_bb28_0242ac1c0002row39_col1\" class=\"data row39 col1\" >-0.580262</td>\n",
              "                        <td id=\"T_f7ba5096_63a7_11eb_bb28_0242ac1c0002row39_col2\" class=\"data row39 col2\" >0.436256</td>\n",
              "                        <td id=\"T_f7ba5096_63a7_11eb_bb28_0242ac1c0002row39_col3\" class=\"data row39 col3\" >-0.144007</td>\n",
              "            </tr>\n",
              "            <tr>\n",
              "                        <th id=\"T_f7ba5096_63a7_11eb_bb28_0242ac1c0002level0_row40\" class=\"row_heading level0 row40\" >40</th>\n",
              "                        <td id=\"T_f7ba5096_63a7_11eb_bb28_0242ac1c0002row40_col0\" class=\"data row40 col0\" >Saudi Arabian</td>\n",
              "                        <td id=\"T_f7ba5096_63a7_11eb_bb28_0242ac1c0002row40_col1\" class=\"data row40 col1\" >0.433498</td>\n",
              "                        <td id=\"T_f7ba5096_63a7_11eb_bb28_0242ac1c0002row40_col2\" class=\"data row40 col2\" >0.082252</td>\n",
              "                        <td id=\"T_f7ba5096_63a7_11eb_bb28_0242ac1c0002row40_col3\" class=\"data row40 col3\" >0.515750</td>\n",
              "            </tr>\n",
              "            <tr>\n",
              "                        <th id=\"T_f7ba5096_63a7_11eb_bb28_0242ac1c0002level0_row41\" class=\"row_heading level0 row41\" >41</th>\n",
              "                        <td id=\"T_f7ba5096_63a7_11eb_bb28_0242ac1c0002row41_col0\" class=\"data row41 col0\" >Singapore Airlines</td>\n",
              "                        <td id=\"T_f7ba5096_63a7_11eb_bb28_0242ac1c0002row41_col1\" class=\"data row41 col1\" >-0.422819</td>\n",
              "                        <td id=\"T_f7ba5096_63a7_11eb_bb28_0242ac1c0002row41_col2\" class=\"data row41 col2\" >0.058666</td>\n",
              "                        <td id=\"T_f7ba5096_63a7_11eb_bb28_0242ac1c0002row41_col3\" class=\"data row41 col3\" >-0.364152</td>\n",
              "            </tr>\n",
              "            <tr>\n",
              "                        <th id=\"T_f7ba5096_63a7_11eb_bb28_0242ac1c0002level0_row42\" class=\"row_heading level0 row42\" >42</th>\n",
              "                        <td id=\"T_f7ba5096_63a7_11eb_bb28_0242ac1c0002row42_col0\" class=\"data row42 col0\" >South African</td>\n",
              "                        <td id=\"T_f7ba5096_63a7_11eb_bb28_0242ac1c0002row42_col1\" class=\"data row42 col1\" >-0.189564</td>\n",
              "                        <td id=\"T_f7ba5096_63a7_11eb_bb28_0242ac1c0002row42_col2\" class=\"data row42 col2\" >-0.657796</td>\n",
              "                        <td id=\"T_f7ba5096_63a7_11eb_bb28_0242ac1c0002row42_col3\" class=\"data row42 col3\" >-0.847360</td>\n",
              "            </tr>\n",
              "            <tr>\n",
              "                        <th id=\"T_f7ba5096_63a7_11eb_bb28_0242ac1c0002level0_row43\" class=\"row_heading level0 row43\" >43</th>\n",
              "                        <td id=\"T_f7ba5096_63a7_11eb_bb28_0242ac1c0002row43_col0\" class=\"data row43 col0\" >Southwest Airlines</td>\n",
              "                        <td id=\"T_f7ba5096_63a7_11eb_bb28_0242ac1c0002row43_col1\" class=\"data row43 col1\" >-0.702176</td>\n",
              "                        <td id=\"T_f7ba5096_63a7_11eb_bb28_0242ac1c0002row43_col2\" class=\"data row43 col2\" >-0.139762</td>\n",
              "                        <td id=\"T_f7ba5096_63a7_11eb_bb28_0242ac1c0002row43_col3\" class=\"data row43 col3\" >-0.841939</td>\n",
              "            </tr>\n",
              "            <tr>\n",
              "                        <th id=\"T_f7ba5096_63a7_11eb_bb28_0242ac1c0002level0_row44\" class=\"row_heading level0 row44\" >44</th>\n",
              "                        <td id=\"T_f7ba5096_63a7_11eb_bb28_0242ac1c0002row44_col0\" class=\"data row44 col0\" >Sri Lankan / AirLanka</td>\n",
              "                        <td id=\"T_f7ba5096_63a7_11eb_bb28_0242ac1c0002row44_col1\" class=\"data row44 col1\" >-0.522036</td>\n",
              "                        <td id=\"T_f7ba5096_63a7_11eb_bb28_0242ac1c0002row44_col2\" class=\"data row44 col2\" >-0.435781</td>\n",
              "                        <td id=\"T_f7ba5096_63a7_11eb_bb28_0242ac1c0002row44_col3\" class=\"data row44 col3\" >-0.957818</td>\n",
              "            </tr>\n",
              "            <tr>\n",
              "                        <th id=\"T_f7ba5096_63a7_11eb_bb28_0242ac1c0002level0_row45\" class=\"row_heading level0 row45\" >45</th>\n",
              "                        <td id=\"T_f7ba5096_63a7_11eb_bb28_0242ac1c0002row45_col0\" class=\"data row45 col0\" >SWISS*</td>\n",
              "                        <td id=\"T_f7ba5096_63a7_11eb_bb28_0242ac1c0002row45_col1\" class=\"data row45 col1\" >-0.029060</td>\n",
              "                        <td id=\"T_f7ba5096_63a7_11eb_bb28_0242ac1c0002row45_col2\" class=\"data row45 col2\" >-0.509786</td>\n",
              "                        <td id=\"T_f7ba5096_63a7_11eb_bb28_0242ac1c0002row45_col3\" class=\"data row45 col3\" >-0.538846</td>\n",
              "            </tr>\n",
              "            <tr>\n",
              "                        <th id=\"T_f7ba5096_63a7_11eb_bb28_0242ac1c0002level0_row46\" class=\"row_heading level0 row46\" >46</th>\n",
              "                        <td id=\"T_f7ba5096_63a7_11eb_bb28_0242ac1c0002row46_col0\" class=\"data row46 col0\" >TACA</td>\n",
              "                        <td id=\"T_f7ba5096_63a7_11eb_bb28_0242ac1c0002row46_col1\" class=\"data row46 col1\" >-0.516780</td>\n",
              "                        <td id=\"T_f7ba5096_63a7_11eb_bb28_0242ac1c0002row46_col2\" class=\"data row46 col2\" >-0.257028</td>\n",
              "                        <td id=\"T_f7ba5096_63a7_11eb_bb28_0242ac1c0002row46_col3\" class=\"data row46 col3\" >-0.773808</td>\n",
              "            </tr>\n",
              "            <tr>\n",
              "                        <th id=\"T_f7ba5096_63a7_11eb_bb28_0242ac1c0002level0_row47\" class=\"row_heading level0 row47\" >47</th>\n",
              "                        <td id=\"T_f7ba5096_63a7_11eb_bb28_0242ac1c0002row47_col0\" class=\"data row47 col0\" >TAM</td>\n",
              "                        <td id=\"T_f7ba5096_63a7_11eb_bb28_0242ac1c0002row47_col1\" class=\"data row47 col1\" >0.088561</td>\n",
              "                        <td id=\"T_f7ba5096_63a7_11eb_bb28_0242ac1c0002row47_col2\" class=\"data row47 col2\" >1.137612</td>\n",
              "                        <td id=\"T_f7ba5096_63a7_11eb_bb28_0242ac1c0002row47_col3\" class=\"data row47 col3\" >1.226174</td>\n",
              "            </tr>\n",
              "            <tr>\n",
              "                        <th id=\"T_f7ba5096_63a7_11eb_bb28_0242ac1c0002level0_row48\" class=\"row_heading level0 row48\" >48</th>\n",
              "                        <td id=\"T_f7ba5096_63a7_11eb_bb28_0242ac1c0002row48_col0\" class=\"data row48 col0\" >TAP - Air Portugal</td>\n",
              "                        <td id=\"T_f7ba5096_63a7_11eb_bb28_0242ac1c0002row48_col1\" class=\"data row48 col1\" >-0.732655</td>\n",
              "                        <td id=\"T_f7ba5096_63a7_11eb_bb28_0242ac1c0002row48_col2\" class=\"data row48 col2\" >-0.731801</td>\n",
              "                        <td id=\"T_f7ba5096_63a7_11eb_bb28_0242ac1c0002row48_col3\" class=\"data row48 col3\" >-1.464455</td>\n",
              "            </tr>\n",
              "            <tr>\n",
              "                        <th id=\"T_f7ba5096_63a7_11eb_bb28_0242ac1c0002level0_row49\" class=\"row_heading level0 row49\" >49</th>\n",
              "                        <td id=\"T_f7ba5096_63a7_11eb_bb28_0242ac1c0002row49_col0\" class=\"data row49 col0\" >Thai Airways</td>\n",
              "                        <td id=\"T_f7ba5096_63a7_11eb_bb28_0242ac1c0002row49_col1\" class=\"data row49 col1\" >0.687634</td>\n",
              "                        <td id=\"T_f7ba5096_63a7_11eb_bb28_0242ac1c0002row49_col2\" class=\"data row49 col2\" >-0.189066</td>\n",
              "                        <td id=\"T_f7ba5096_63a7_11eb_bb28_0242ac1c0002row49_col3\" class=\"data row49 col3\" >0.498568</td>\n",
              "            </tr>\n",
              "            <tr>\n",
              "                        <th id=\"T_f7ba5096_63a7_11eb_bb28_0242ac1c0002level0_row50\" class=\"row_heading level0 row50\" >50</th>\n",
              "                        <td id=\"T_f7ba5096_63a7_11eb_bb28_0242ac1c0002row50_col0\" class=\"data row50 col0\" >Turkish Airlines</td>\n",
              "                        <td id=\"T_f7ba5096_63a7_11eb_bb28_0242ac1c0002row50_col1\" class=\"data row50 col1\" >0.010602</td>\n",
              "                        <td id=\"T_f7ba5096_63a7_11eb_bb28_0242ac1c0002row50_col2\" class=\"data row50 col2\" >0.897420</td>\n",
              "                        <td id=\"T_f7ba5096_63a7_11eb_bb28_0242ac1c0002row50_col3\" class=\"data row50 col3\" >0.908023</td>\n",
              "            </tr>\n",
              "            <tr>\n",
              "                        <th id=\"T_f7ba5096_63a7_11eb_bb28_0242ac1c0002level0_row51\" class=\"row_heading level0 row51\" >51</th>\n",
              "                        <td id=\"T_f7ba5096_63a7_11eb_bb28_0242ac1c0002row51_col0\" class=\"data row51 col0\" >United / Continental*</td>\n",
              "                        <td id=\"T_f7ba5096_63a7_11eb_bb28_0242ac1c0002row51_col1\" class=\"data row51 col1\" >1.518363</td>\n",
              "                        <td id=\"T_f7ba5096_63a7_11eb_bb28_0242ac1c0002row51_col2\" class=\"data row51 col2\" >1.416977</td>\n",
              "                        <td id=\"T_f7ba5096_63a7_11eb_bb28_0242ac1c0002row51_col3\" class=\"data row51 col3\" >2.935340</td>\n",
              "            </tr>\n",
              "            <tr>\n",
              "                        <th id=\"T_f7ba5096_63a7_11eb_bb28_0242ac1c0002level0_row52\" class=\"row_heading level0 row52\" >52</th>\n",
              "                        <td id=\"T_f7ba5096_63a7_11eb_bb28_0242ac1c0002row52_col0\" class=\"data row52 col0\" >US Airways / America West*</td>\n",
              "                        <td id=\"T_f7ba5096_63a7_11eb_bb28_0242ac1c0002row52_col1\" class=\"data row52 col1\" >1.091540</td>\n",
              "                        <td id=\"T_f7ba5096_63a7_11eb_bb28_0242ac1c0002row52_col2\" class=\"data row52 col2\" >0.935146</td>\n",
              "                        <td id=\"T_f7ba5096_63a7_11eb_bb28_0242ac1c0002row52_col3\" class=\"data row52 col3\" >2.026686</td>\n",
              "            </tr>\n",
              "            <tr>\n",
              "                        <th id=\"T_f7ba5096_63a7_11eb_bb28_0242ac1c0002level0_row53\" class=\"row_heading level0 row53\" >53</th>\n",
              "                        <td id=\"T_f7ba5096_63a7_11eb_bb28_0242ac1c0002row53_col0\" class=\"data row53 col0\" >Vietnam Airlines</td>\n",
              "                        <td id=\"T_f7ba5096_63a7_11eb_bb28_0242ac1c0002row53_col1\" class=\"data row53 col1\" >0.225465</td>\n",
              "                        <td id=\"T_f7ba5096_63a7_11eb_bb28_0242ac1c0002row53_col2\" class=\"data row53 col2\" >-0.657796</td>\n",
              "                        <td id=\"T_f7ba5096_63a7_11eb_bb28_0242ac1c0002row53_col3\" class=\"data row53 col3\" >-0.432330</td>\n",
              "            </tr>\n",
              "            <tr>\n",
              "                        <th id=\"T_f7ba5096_63a7_11eb_bb28_0242ac1c0002level0_row54\" class=\"row_heading level0 row54\" >54</th>\n",
              "                        <td id=\"T_f7ba5096_63a7_11eb_bb28_0242ac1c0002row54_col0\" class=\"data row54 col0\" >Virgin Atlantic</td>\n",
              "                        <td id=\"T_f7ba5096_63a7_11eb_bb28_0242ac1c0002row54_col1\" class=\"data row54 col1\" >-0.702176</td>\n",
              "                        <td id=\"T_f7ba5096_63a7_11eb_bb28_0242ac1c0002row54_col2\" class=\"data row54 col2\" >-0.731801</td>\n",
              "                        <td id=\"T_f7ba5096_63a7_11eb_bb28_0242ac1c0002row54_col3\" class=\"data row54 col3\" >-1.433977</td>\n",
              "            </tr>\n",
              "            <tr>\n",
              "                        <th id=\"T_f7ba5096_63a7_11eb_bb28_0242ac1c0002level0_row55\" class=\"row_heading level0 row55\" >55</th>\n",
              "                        <td id=\"T_f7ba5096_63a7_11eb_bb28_0242ac1c0002row55_col0\" class=\"data row55 col0\" >Xiamen Airlines</td>\n",
              "                        <td id=\"T_f7ba5096_63a7_11eb_bb28_0242ac1c0002row55_col1\" class=\"data row55 col1\" >-0.152769</td>\n",
              "                        <td id=\"T_f7ba5096_63a7_11eb_bb28_0242ac1c0002row55_col2\" class=\"data row55 col2\" >-0.583791</td>\n",
              "                        <td id=\"T_f7ba5096_63a7_11eb_bb28_0242ac1c0002row55_col3\" class=\"data row55 col3\" >-0.736560</td>\n",
              "            </tr>\n",
              "    </tbody></table>"
            ],
            "text/plain": [
              "<pandas.io.formats.style.Styler at 0x7ff7a0ae8be0>"
            ]
          },
          "metadata": {
            "tags": []
          },
          "execution_count": 71
        }
      ]
    },
    {
      "cell_type": "markdown",
      "metadata": {
        "id": "Bv1UWGT1z5si"
      },
      "source": [
        "Positive scores indicate a safe track record — Delat/Northwest, for instance, has a safety score of +4.32. By contrast, Australian Airlines has a score of -1.35."
      ]
    },
    {
      "cell_type": "markdown",
      "metadata": {
        "id": "OqiQ65udZW1O"
      },
      "source": [
        ""
      ]
    }
  ]
}